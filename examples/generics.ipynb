{
 "cells": [
  {
   "cell_type": "markdown",
   "metadata": {},
   "source": [
    "## Generics\n"
   ]
  },
  {
   "cell_type": "markdown",
   "metadata": {},
   "source": [
    "### Functions\n"
   ]
  },
  {
   "cell_type": "code",
   "execution_count": null,
   "metadata": {},
   "outputs": [],
   "source": [
    "function wrapStringInArray(value: string | number | object): string[] | number[] | object[] {\n",
    "  return [value];\n",
    "}\n",
    "\n",
    "function wrapNumberInArray(value: number): number[] {\n",
    "  return [value];\n",
    "}\n",
    "\n",
    "function wrapObjectInArray(value: object): object[] {\n",
    "  return [value];\n",
    "}\n",
    "\n",
    "console.log(wrapStringInArray(\"string\"));\n",
    "console.log(wrapNumberInArray(1));\n",
    "console.log(wrapObjectInArray({ key: \"value\" }));\n"
   ]
  },
  {
   "cell_type": "code",
   "execution_count": null,
   "metadata": {},
   "outputs": [],
   "source": [
    "function wrapValueInArray<MyType>(value: MyType): MyType[] {\n",
    "  return [value];\n",
    "}\n",
    "\n",
    "console.log(wrapValueInArray<number>(1));\n",
    "console.log(wrapValueInArray(1));\n",
    "console.log(wrapValueInArray({ key: \"value\" }));\n",
    "\n"
   ]
  },
  {
   "cell_type": "code",
   "execution_count": null,
   "metadata": {},
   "outputs": [],
   "source": [
    "\n",
    "\n",
    "// function createPair<T>(first: string, second: number): T {\n",
    "//   return first as T\n",
    "// }\n",
    "\n",
    "// console.log(createPair<number>(\"sdfsdf\", 2));\n",
    "// // console.log(createPair([\"string\", \"anotherstring\"], { key: \"value\" }));\n",
    "// // console.log(createPair(undefined, [1, 5]));\n",
    "\n",
    "const myobj: { \"key5\": \"dfsdf\"}\n",
    "\n"
   ]
  },
  {
   "cell_type": "markdown",
   "metadata": {},
   "source": [
    "### Classes\n"
   ]
  },
  {
   "cell_type": "code",
   "execution_count": null,
   "metadata": {},
   "outputs": [],
   "source": [
    "class StringHolder {\n",
    "  constructor(private _value: string) {}\n",
    "\n",
    "  get value(): string {\n",
    "    return this._value;\n",
    "  }\n",
    "}\n",
    "\n",
    "class NumberHolder {\n",
    "  constructor(private _value: number) {}\n",
    "\n",
    "  get value(): number {\n",
    "    return this._value;\n",
    "  }\n",
    "}\n",
    "\n",
    "const num = new NumberHolder(1);\n",
    "console.log(num.value);\n",
    "\n",
    "const str = new StringHolder(\"string\");\n",
    "console.log(str.value);\n"
   ]
  },
  {
   "cell_type": "code",
   "execution_count": null,
   "metadata": {},
   "outputs": [],
   "source": [
    "class ValueHolder<T> {\n",
    "  private _value: T | null = null\n",
    "\n",
    "  get value(): T | null {\n",
    "    return this._value;\n",
    "  }\n",
    "\n",
    "  set value(value: T) {\n",
    "    this._value = value\n",
    "  }\n",
    "}\n",
    "\n",
    "\n",
    "\n",
    "const num = new ValueHolder<boolean>();\n",
    "\n",
    "num.value = \"four\"\n",
    "\n",
    "// const str = new ValueHolder('string');\n",
    "// console.log(str.value);\n"
   ]
  },
  {
   "cell_type": "markdown",
   "metadata": {},
   "source": [
    "### Aliases"
   ]
  },
  {
   "cell_type": "code",
   "execution_count": null,
   "metadata": {},
   "outputs": [],
   "source": [
    "type ValueBox<T> = {\n",
    "  value: T;\n",
    "};\n",
    "\n",
    "const myStringValue: ValueBox<string> = { value: \"hello\" };\n",
    "const myNumberValue: ValueBox<number> = { value: 5 };\n",
    "\n",
    "type ValueConverterFunction<T, U> = (value: T) => U;\n",
    "\n",
    "const stringToNumber: ValueConverterFunction<string, number> = function (\n",
    "  value\n",
    ") {\n",
    "  return Number(value);\n",
    "};\n"
   ]
  }
 ],
 "metadata": {
  "kernelspec": {
   "display_name": "Deno",
   "language": "typescript",
   "name": "deno"
  },
  "language_info": {
   "codemirror_mode": "typescript",
   "file_extension": ".ts",
   "mimetype": "text/x.typescript",
   "name": "typescript",
   "nbconvert_exporter": "script",
   "pygments_lexer": "typescript",
   "version": "5.6.2"
  }
 },
 "nbformat": 4,
 "nbformat_minor": 4
}

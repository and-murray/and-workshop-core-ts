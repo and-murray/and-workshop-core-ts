{
 "cells": [
  {
   "cell_type": "markdown",
   "metadata": {},
   "source": [
    "## Generics\n"
   ]
  },
  {
   "cell_type": "markdown",
   "metadata": {},
   "source": [
    "### Functions\n"
   ]
  },
  {
   "cell_type": "code",
   "execution_count": null,
   "metadata": {
    "vscode": {
     "languageId": "typescript"
    }
   },
   "outputs": [],
   "source": [
    "function wrapStringInArray(string: string): string[] {\n",
    "  return [string];\n",
    "}\n",
    "\n",
    "function wrapNumberInArray(number: number): number[] {\n",
    "  return [number];\n",
    "}\n",
    "\n",
    "function wrapObjectInArray(object: object): object[] {\n",
    "  return [object];\n",
    "}\n",
    "\n",
    "console.log(wrapStringInArray(\"string\"));\n",
    "console.log(wrapNumberInArray(1));\n",
    "console.log(wrapObjectInArray({ key: \"value\" }));\n"
   ]
  },
  {
   "cell_type": "code",
   "execution_count": null,
   "metadata": {
    "vscode": {
     "languageId": "typescript"
    }
   },
   "outputs": [],
   "source": [
    "function wrapValueInArray<T>(value: T): T[] {\n",
    "  return [value];\n",
    "}\n",
    "\n",
    "console.log(wrapValueInArray(\"string\"));\n",
    "console.log(wrapValueInArray(1));\n",
    "console.log(wrapValueInArray({ key: \"value\" }));\n"
   ]
  },
  {
   "cell_type": "code",
   "execution_count": null,
   "metadata": {
    "vscode": {
     "languageId": "typescript"
    }
   },
   "outputs": [],
   "source": [
    "function createPair<T, U>(first: T, second: U): [T, U] {\n",
    "  return [first, second];\n",
    "}\n",
    "\n",
    "console.log(createPair(\"string\", 2));\n",
    "console.log(createPair([\"string\", \"anotherstring\"], { key: \"value\" }));\n",
    "console.log(createPair(undefined, [1, 5]));\n"
   ]
  },
  {
   "cell_type": "markdown",
   "metadata": {},
   "source": [
    "### Classes\n"
   ]
  },
  {
   "cell_type": "code",
   "execution_count": null,
   "metadata": {
    "vscode": {
     "languageId": "typescript"
    }
   },
   "outputs": [],
   "source": [
    "class StringHolder {\n",
    "  constructor(private _value: string) {}\n",
    "\n",
    "  get value(): string {\n",
    "    return this._value;\n",
    "  }\n",
    "}\n",
    "\n",
    "class NumberHolder {\n",
    "  constructor(private _value: number) {}\n",
    "\n",
    "  get value(): number {\n",
    "    return this._value;\n",
    "  }\n",
    "}\n",
    "\n",
    "const num = new NumberHolder(1);\n",
    "console.log(num.value);\n",
    "\n",
    "const str = new StringHolder(\"string\");\n",
    "console.log(str.value);\n"
   ]
  },
  {
   "cell_type": "code",
   "execution_count": null,
   "metadata": {
    "vscode": {
     "languageId": "typescript"
    }
   },
   "outputs": [],
   "source": [
    "class ValueHolder<T> {\n",
    "  constructor(private _value: T) {}\n",
    "\n",
    "  get value(): T {\n",
    "    return this._value;\n",
    "  }\n",
    "}\n",
    "\n",
    "const num = new ValueHolder(1);\n",
    "console.log(num.value);\n",
    "\n",
    "const str = new ValueHolder('string');\n",
    "console.log(str.value);\n"
   ]
  },
  {
   "cell_type": "markdown",
   "metadata": {},
   "source": [
    "### Aliases"
   ]
  },
  {
   "cell_type": "code",
   "execution_count": null,
   "metadata": {
    "vscode": {
     "languageId": "typescript"
    }
   },
   "outputs": [],
   "source": [
    "type ValueBox<T> = {\n",
    "  value: T;\n",
    "};\n",
    "\n",
    "const myStringValue: ValueBox<string> = { value: \"hello\" };\n",
    "const myNumberValue: ValueBox<number> = { value: 5 };\n",
    "\n",
    "type ValueConverterFunction<T, U> = (value: T) => U;\n",
    "\n",
    "const stringToNumber: ValueConverterFunction<string, number> = function (\n",
    "  value\n",
    ") {\n",
    "  return Number(value);\n",
    "};\n"
   ]
  }
 ],
 "metadata": {
  "language_info": {
   "name": "python"
  }
 },
 "nbformat": 4,
 "nbformat_minor": 2
}

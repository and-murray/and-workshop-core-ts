{
  "cells": [
    {
      "cell_type": "markdown",
      "metadata": {},
      "source": [
        "### Javascript\n"
      ]
    },
    {
      "cell_type": "code",
      "execution_count": null,
      "metadata": {},
      "outputs": [],
      "source": [
        "//@ts-nocheck\n",
        "3 + [];"
      ]
    },
    {
      "cell_type": "markdown",
      "metadata": {},
      "source": [
        "_Error: Did you really mean to add a number to an array?_"
      ]
    },
    {
      "cell_type": "code",
      "execution_count": null,
      "metadata": {},
      "outputs": [],
      "source": [
        "//@ts-nocheck\n",
        "let jsobj = {};\n",
        "\n",
        "console.log(jsobj.foo)"
      ]
    },
    {
      "cell_type": "markdown",
      "metadata": {},
      "source": [
        "_Error: You forgot to define the property `foo` on obj_"
      ]
    },
    {
      "cell_type": "code",
      "execution_count": null,
      "metadata": {},
      "outputs": [],
      "source": [
        "// @ts-nocheck\n",
        "function jsa(b) {\n",
        "  return b / 2;\n",
        "}\n",
        "\n",
        "jsa(\"z\")"
      ]
    },
    {
      "cell_type": "markdown",
      "metadata": {},
      "source": [
        "_Error: The function `a` expects a number. but you gave it a string_"
      ]
    },
    {
      "cell_type": "markdown",
      "metadata": {},
      "source": [
        "### Typescript\n"
      ]
    },
    {
      "cell_type": "code",
      "execution_count": null,
      "metadata": {},
      "outputs": [],
      "source": [
        "3 + [];"
      ]
    },
    {
      "cell_type": "code",
      "execution_count": null,
      "metadata": {},
      "outputs": [],
      "source": [
        "let tsobj = {};\n",
        "\n",
        "console.log(tsobj.foo);\n",
        "\n",
        "type HorseArray = string[];\n",
        "\n",
        "const horses: HorseArray = [\"Clydesdale\", \"Shire\", \"Unicorn\"];\n"
      ]
    },
    {
      "cell_type": "code",
      "execution_count": null,
      "metadata": {},
      "outputs": [],
      "source": [
        "function tsa(b: number) {\n",
        "  return b / 2;\n",
        "}\n",
        "\n",
        "tsa(\"z\");"
      ]
    }
  ],
  "metadata": {
    "kernelspec": {
      "display_name": "Deno",
      "language": "typescript",
      "name": "deno"
    },
    "language_info": {
      "file_extension": ".ts",
      "mimetype": "text/x.typescript",
      "name": "typescript",
      "nb_converter": "script",
      "pygments_lexer": "typescript",
      "version": "5.4.5"
    }
  },
  "nbformat": 4,
  "nbformat_minor": 4
}

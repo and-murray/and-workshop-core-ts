{
 "cells": [
  {
   "cell_type": "markdown",
   "metadata": {},
   "source": [
    "### Errors"
   ]
  },
  {
   "cell_type": "code",
   "execution_count": null,
   "metadata": {},
   "outputs": [],
   "source": [
    "const myError = Error(\"Big bad problem\");\n",
    "\n",
    "try {\n",
    "  // do something complicated that might throw an error\n",
    "  throw myError;\n",
    "} catch (e) {\n",
    "  const error = e as Error;\n",
    "  if (error.message.includes(\"Big bad problem\")) {\n",
    "    throw e;\n",
    "  } else {\n",
    "    console.log(\"Nothing to worry about!\")\n",
    "  }\n",
    "}"
   ]
  }
 ],
 "metadata": {
  "kernelspec": {
   "display_name": "Deno",
   "language": "typescript",
   "name": "deno"
  },
  "language_info": {
   "name": "typescript"
  }
 },
 "nbformat": 4,
 "nbformat_minor": 2
}

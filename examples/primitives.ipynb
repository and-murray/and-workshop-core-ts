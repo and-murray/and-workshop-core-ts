{
 "cells": [
  {
   "cell_type": "markdown",
   "metadata": {},
   "source": [
    "## Primitives"
   ]
  },
  {
   "cell_type": "markdown",
   "metadata": {},
   "source": [
    "### `symbol`"
   ]
  },
  {
   "cell_type": "code",
   "execution_count": 4,
   "metadata": {},
   "outputs": [
    {
     "data": {
      "text/plain": [
       "[ \u001b[32m\"key\"\u001b[39m, \u001b[32m\"key2\"\u001b[39m ]"
      ]
     },
     "execution_count": 4,
     "metadata": {},
     "output_type": "execute_result"
    }
   ],
   "source": [
    "const key1 = Symbol(\"key\")\n",
    "const key2 = Symbol(\"key\")\n",
    "\n",
    "const myobj = {\n",
    "  key: \"value\",\n",
    "  [key2]: \"value\",\n",
    "  [key1]: \"value\",\n",
    "  \"key2\": \"value\"\n",
    "  // key: \"value\"\n",
    "}\n",
    "\n",
    "Object.keys(myobj)\n",
    "\n",
    "// key2.description\n",
    "// const people = {\n",
    "//   [key1]: 'nigel',\n",
    "//   [key2]: 'nigel'\n",
    "// }"
   ]
  },
  {
   "cell_type": "code",
   "execution_count": null,
   "metadata": {},
   "outputs": [],
   "source": [
    "function mycallback(arg: number) {\n",
    "  // does something\n",
    "  return\n",
    "}\n",
    "\n",
    "type myfunctiontype = (arg: number) => void\n",
    "\n",
    "\n",
    "function doesSomething(diffargument: string, callback: myfunctiontype): void {\n",
    "  // do something...\n",
    "  callback(1);\n",
    "}\n",
    "\n",
    "\n",
    "doesSomething(\"string\", mycallback)"
   ]
  }
 ],
 "metadata": {
  "kernelspec": {
   "display_name": "Deno",
   "language": "typescript",
   "name": "deno"
  },
  "language_info": {
   "codemirror_mode": "typescript",
   "file_extension": ".ts",
   "mimetype": "text/x.typescript",
   "name": "typescript",
   "nbconvert_exporter": "script",
   "pygments_lexer": "typescript",
   "version": "5.6.2"
  }
 },
 "nbformat": 4,
 "nbformat_minor": 2
}

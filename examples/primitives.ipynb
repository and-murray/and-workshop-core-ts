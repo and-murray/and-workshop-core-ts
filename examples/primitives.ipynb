{
 "cells": [
  {
   "cell_type": "markdown",
   "metadata": {},
   "source": [
    "## Primitives"
   ]
  },
  {
   "cell_type": "markdown",
   "metadata": {},
   "source": [
    "### `symbol`"
   ]
  },
  {
   "cell_type": "code",
   "execution_count": 1,
   "metadata": {},
   "outputs": [
    {
     "data": {
      "text/plain": [
       "[ \u001b[32m\"key\"\u001b[39m, \u001b[32m\"key2\"\u001b[39m ]"
      ]
     },
     "execution_count": 1,
     "metadata": {},
     "output_type": "execute_result"
    }
   ],
   "source": [
    "const key1 = Symbol(\"key\")\n",
    "const key2 = Symbol(\"key\")\n",
    "\n",
    "const myobj = {\n",
    "  key: \"value\",\n",
    "  [key2]: \"value\",\n",
    "  [key1]: \"value\",\n",
    "  \"key2\": \"value\"\n",
    "}\n",
    "\n",
    "Object.keys(myobj)"
   ]
  }
 ],
 "metadata": {
  "kernelspec": {
   "display_name": "Deno",
   "language": "typescript",
   "name": "deno"
  },
  "language_info": {
   "file_extension": ".ts",
   "mimetype": "text/x.typescript",
   "name": "typescript",
   "nb_converter": "script",
   "pygments_lexer": "typescript",
   "version": "5.4.3"
  }
 },
 "nbformat": 4,
 "nbformat_minor": 2
}

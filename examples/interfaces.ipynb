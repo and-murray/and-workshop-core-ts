{
 "cells": [
  {
   "cell_type": "markdown",
   "metadata": {},
   "source": [
    "## Interfaces"
   ]
  },
  {
   "cell_type": "code",
   "execution_count": null,
   "metadata": {},
   "outputs": [],
   "source": [
    "interface Animal {\n",
    "  readonly name?: string;\n",
    "  makeSound(): void;\n",
    "  move(legs: number): void\n",
    "}\n",
    "\n",
    "const dog: Animal = {\n",
    "  makeSound: () => undefined,\n",
    "  move: (legs: number) => undefined,\n",
    "  name: 'fido'\n",
    "}\n",
    "\n",
    "class Dog implements Animal {\n",
    "  name: string;\n",
    "  breed: string;\n",
    "\n",
    "  constructor(name: string, breed: string) {\n",
    "    this.name = name;\n",
    "    this.breed = breed;\n",
    "  }\n",
    "\n",
    "  makeSound(): void {\n",
    "    // console.log(`${this.name} barks.`);\n",
    "  }\n",
    "\n",
    "  move(legs: number): void {\n",
    "    console.log('I can move');\n",
    "    \n",
    "  }\n",
    "}"
   ]
  },
  {
   "cell_type": "code",
   "execution_count": null,
   "metadata": {},
   "outputs": [],
   "source": [
    "interface Animal {\n",
    "  name: string;\n",
    "  makeSound(): void;\n",
    "}\n",
    "\n",
    "interface Cat extends Animal {\n",
    "  breed: string;\n",
    "\n",
    "  climb(): void;\n",
    "}\n",
    "\n",
    "class TabbyCat implements Cat {\n",
    "\n",
    "  constructor(public name: string, public breed: string) {}\n",
    "\n",
    "  makeSound(): void {\n",
    "    console.log(this.name + \" MEOWS\");\n",
    "  }\n",
    "\n",
    "  climb(): void {\n",
    "    console.log(\"Climbs on the fridge\");\n",
    "  }\n",
    "}\n"
   ]
  }
 ],
 "metadata": {
  "kernelspec": {
   "display_name": "Deno",
   "language": "typescript",
   "name": "deno"
  },
  "language_info": {
   "name": "typescript"
  }
 },
 "nbformat": 4,
 "nbformat_minor": 2
}

{
 "cells": [
  {
   "cell_type": "markdown",
   "metadata": {},
   "source": [
    "## Interfaces"
   ]
  },
  {
   "cell_type": "code",
   "execution_count": null,
   "metadata": {
    "vscode": {
     "languageId": "typescript"
    }
   },
   "outputs": [],
   "source": [
    "interface Animal {\n",
    "  name: string;\n",
    "  makeSound(): void;\n",
    "}\n",
    "\n",
    "class Dog implements Animal {\n",
    "  name: string;\n",
    "  breed: string;\n",
    "\n",
    "  constructor(name: string, breed: string) {\n",
    "    this.name = name;\n",
    "    this.breed = breed;\n",
    "  }\n",
    "\n",
    "  makeSound(): void {\n",
    "    console.log(`${this.name} barks.`);\n",
    "  }\n",
    "}"
   ]
  },
  {
   "cell_type": "code",
   "execution_count": null,
   "metadata": {
    "vscode": {
     "languageId": "typescript"
    }
   },
   "outputs": [],
   "source": [
    "interface Animal {\n",
    "  name: string;\n",
    "  makeSound(): void;\n",
    "}\n",
    "\n",
    "interface Cat extends Animal {\n",
    "  breed: string;\n",
    "\n",
    "  climb(): void;\n",
    "}\n",
    "\n",
    "class TabbyCat implements Cat {\n",
    "  name: string;\n",
    "\n",
    "  constructor(name: string) {\n",
    "    this.name = name;\n",
    "  }\n",
    "\n",
    "  makeSound(): void {\n",
    "    console.log(this.name + \" MEOWS\");\n",
    "  }\n",
    "\n",
    "  climb(): void {\n",
    "    console.log(\"Climbs on the fridge\");\n",
    "  }\n",
    "}\n"
   ]
  }
 ],
 "metadata": {
  "language_info": {
   "name": "python"
  }
 },
 "nbformat": 4,
 "nbformat_minor": 2
}

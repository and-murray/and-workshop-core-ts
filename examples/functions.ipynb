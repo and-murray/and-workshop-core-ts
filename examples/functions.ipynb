{
 "cells": [
  {
   "cell_type": "markdown",
   "metadata": {},
   "source": [
    "### Functions\n"
   ]
  },
  {
   "cell_type": "markdown",
   "metadata": {},
   "source": [
    "#### Function Types"
   ]
  },
  {
   "cell_type": "code",
   "execution_count": null,
   "metadata": {},
   "outputs": [],
   "source": [
    "function add(a: number, b: number): number {\n",
    "  return a + b;\n",
    "}\n",
    "\n",
    "let addFunction: Function = add\n",
    "let addFunction2: (...args: any[]) => any = add"
   ]
  },
  {
   "cell_type": "markdown",
   "metadata": {},
   "source": [
    "#### Default Parameters"
   ]
  },
  {
   "cell_type": "code",
   "execution_count": null,
   "metadata": {},
   "outputs": [],
   "source": [
    "function multiply(a: number, b = 2) {\n",
    "  return a * b\n",
    "}"
   ]
  },
  {
   "cell_type": "code",
   "execution_count": null,
   "metadata": {},
   "outputs": [],
   "source": [
    "multiply(5, 5)"
   ]
  },
  {
   "cell_type": "markdown",
   "metadata": {},
   "source": [
    "##### No argument for optional parameter"
   ]
  },
  {
   "cell_type": "code",
   "execution_count": null,
   "metadata": {},
   "outputs": [],
   "source": [
    "multiply(5)"
   ]
  },
  {
   "cell_type": "markdown",
   "metadata": {},
   "source": [
    "##### Undefined argument for optional parameter"
   ]
  },
  {
   "cell_type": "code",
   "execution_count": null,
   "metadata": {},
   "outputs": [],
   "source": [
    "multiply(5, undefined)"
   ]
  },
  {
   "cell_type": "markdown",
   "metadata": {},
   "source": [
    "#### Optional Parameters"
   ]
  },
  {
   "cell_type": "code",
   "execution_count": null,
   "metadata": {},
   "outputs": [],
   "source": [
    "function greetUser(name: string, greeting?: string): string {\n",
    "  // If a greeting is provided, use it. Otherwise, use the default greeting.\n",
    "  const greetingMessage = greeting ? greeting : \"Hello\";\n",
    "\n",
    "  return `${greetingMessage}, ${name}!`;\n",
    "}\n"
   ]
  },
  {
   "cell_type": "code",
   "execution_count": null,
   "metadata": {},
   "outputs": [],
   "source": [
    "greetUser('Jane')"
   ]
  },
  {
   "cell_type": "code",
   "execution_count": null,
   "metadata": {},
   "outputs": [],
   "source": [
    "greetUser('Jane', \"Hi there\")"
   ]
  },
  {
   "cell_type": "markdown",
   "metadata": {},
   "source": [
    "#### Rest Parameters"
   ]
  },
  {
   "cell_type": "code",
   "execution_count": null,
   "metadata": {},
   "outputs": [],
   "source": [
    "function sumNumbers(...numbers: number[]): number {\n",
    "  let sum = 0;\n",
    "  for (const num of numbers) {\n",
    "    sum += num;\n",
    "  }\n",
    "  return sum;\n",
    "}\n"
   ]
  },
  {
   "cell_type": "markdown",
   "metadata": {},
   "source": [
    "#### Spread"
   ]
  },
  {
   "cell_type": "code",
   "execution_count": 1,
   "metadata": {},
   "outputs": [
    {
     "name": "stdout",
     "output_type": "stream",
     "text": [
      "{ color: \"blue\", height: 10, width: 5 }\n"
     ]
    }
   ],
   "source": [
    "const getOptions = (params: object) => {\n",
    "  const defaultOptions = { color: \"red\", height: 10 };\n",
    "  return { ...defaultOptions, ...params };\n",
    "};\n",
    "\n",
    "console.log(getOptions({ color: \"blue\", width: 5, height: 11 }));\n"
   ]
  },
  {
   "cell_type": "code",
   "execution_count": null,
   "metadata": {},
   "outputs": [],
   "source": [
    "const obj1 = { a: 1, b: { c: 2 } };\n",
    "const obj2 = { ...obj1 };\n",
    "obj2.b.c = 3;\n",
    "\n",
    "console.log(obj1); \n",
    "console.log(obj2);\n"
   ]
  },
  {
   "cell_type": "markdown",
   "metadata": {},
   "source": [
    "#### Scope"
   ]
  },
  {
   "cell_type": "code",
   "execution_count": null,
   "metadata": {},
   "outputs": [],
   "source": [
    "function outerFunction() {\n",
    "  const outerVar = \"I'm outside\";\n",
    "\n",
    "  function innerFunction() {\n",
    "    const innerVar = \"I'm inside\";\n",
    "    console.log(outerVar); // Can access outerVar\n",
    "\n",
    "    return function () {\n",
    "      console.log(outerVar); // Can still access outerVar\n",
    "      console.log(innerVar); // Can still access innerVar\n",
    "    };\n",
    "  }\n",
    "\n",
    "  return innerFunction();\n",
    "}\n",
    "\n",
    "const closure = outerFunction();\n",
    "closure(); // Output: \"I'm outside\", \"I'm inside\"\n"
   ]
  },
  {
   "cell_type": "code",
   "execution_count": null,
   "metadata": {},
   "outputs": [],
   "source": [
    "function updateArray(arr: number[], newValues: number[]): number[] {\n",
    "  return [...arr, ...newValues];\n",
    "}\n",
    "\n",
    "const originalArray = [1, 2, 3];\n",
    "const updatedArray = updateArray(originalArray, [4, 5, 6]);\n",
    "\n",
    "console.log(updatedArray);\n"
   ]
  },
  {
   "cell_type": "markdown",
   "metadata": {},
   "source": [
    "#### Destructuring"
   ]
  },
  {
   "cell_type": "code",
   "execution_count": null,
   "metadata": {},
   "outputs": [],
   "source": [
    "type Person = {\n",
    "  name: string;\n",
    "  age: number;\n",
    "  phoneNumber: string;\n",
    "  address: {\n",
    "    street: string;\n",
    "    city: string;\n",
    "  };\n",
    "};\n",
    "\n",
    "const person: Person = {\n",
    "  name: \"Garth\",\n",
    "  age: 43,\n",
    "  phoneNumber: \"01234123456\",\n",
    "  address: {\n",
    "    street: \"Forest Road\",\n",
    "    city: \"Big City\",\n",
    "  },\n",
    "};\n",
    "\n",
    "const { name, age } = person;\n",
    "\n",
    "console.log(name, age);\n",
    "\n"
   ]
  },
  {
   "cell_type": "code",
   "execution_count": null,
   "metadata": {},
   "outputs": [],
   "source": [
    "function displayPerson({ name, age, address: { city: location } }: Person) {\n",
    "  console.log(`Name: ${name} Age: ${age} City: ${location}`);\n",
    "}\n",
    "\n",
    "displayPerson({\n",
    "  name: \"Gareth\",\n",
    "  age: 44,\n",
    "  address: { street: \"Forest Road\", city: \"Big City\" },\n",
    "});\n"
   ]
  },
  {
   "cell_type": "code",
   "execution_count": null,
   "metadata": {},
   "outputs": [],
   "source": [
    "const addFirstTwo = ([a, b]: number[]) => a + b;\n",
    "console.log(addFirstTwo([35, 7, 999999]));\n",
    "// 42\n",
    "\n",
    "type Car = { make: string; model: string; color: string };\n",
    "const getCar = ({ make, model }: Car) => `${make} ${model}`;\n",
    "\n",
    "console.log(\n",
    "  getCar({\n",
    "    make: \"Ford\",\n",
    "    model: \"Mustang\",\n",
    "    color: \"Blue\",\n",
    "  })\n",
    ");\n",
    "// Ford Mustang"
   ]
  },
  {
   "cell_type": "code",
   "execution_count": null,
   "metadata": {},
   "outputs": [],
   "source": [
    "type Person = {\n",
    "  name: string;\n",
    "  age: number;\n",
    "};\n",
    "\n",
    "const updateAge = (person: Person) => {\n",
    "  person.age = person.age + 1;\n",
    "  return person;\n",
    "};\n",
    "\n",
    "const sandra: Person = { name: \"sandra\", age: 22 };\n",
    "const updatedSandra = updateAge(sandra);\n",
    "\n",
    "console.log(sandra);\n",
    "console.log(updatedSandra);\n"
   ]
  },
  {
   "cell_type": "code",
   "execution_count": null,
   "metadata": {},
   "outputs": [],
   "source": [
    "const reverseString = (str: string) => {\n",
    "  str = str.split(\"\").reverse().join(\"\");\n",
    "  return str;\n",
    "};\n",
    "\n",
    "const input = \"hello\";\n",
    "console.log(reverseString(input));\n",
    "// olleh\n",
    "\n",
    "console.log(input);\n",
    "// hello\n"
   ]
  }
 ],
 "metadata": {
  "kernelspec": {
   "display_name": "Deno",
   "language": "typescript",
   "name": "deno"
  },
  "language_info": {
   "file_extension": ".ts",
   "mimetype": "text/x.typescript",
   "name": "typescript",
   "nb_converter": "script",
   "pygments_lexer": "typescript",
   "version": "5.4.5"
  }
 },
 "nbformat": 4,
 "nbformat_minor": 4
}

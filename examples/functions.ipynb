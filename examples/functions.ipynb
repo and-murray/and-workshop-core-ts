{
 "cells": [
  {
   "cell_type": "markdown",
   "metadata": {},
   "source": [
    "### Functions\n"
   ]
  },
  {
   "cell_type": "markdown",
   "metadata": {},
   "source": [
    "#### Function Types"
   ]
  },
  {
   "cell_type": "code",
   "execution_count": null,
   "metadata": {},
   "outputs": [],
   "source": [
    "function add(a: number, b: number): number {\n",
    "  return a + b;\n",
    "}\n",
    "\n",
    "let addFunction: Function = add\n",
    "let addFunction2: (...args: any[]) => any = add\n",
    "\n",
    "\n",
    "function myFunc(arg: string, callback: (callbackarg: string) => number) {\n",
    "  callback(arg)\n",
    "}\n",
    "\n",
    "function mycallback(callbackarg: string) {\n",
    "  return 5\n",
    "}\n",
    "\n",
    "myFunc(\"mystring\", mycallback)"
   ]
  },
  {
   "cell_type": "markdown",
   "metadata": {},
   "source": [
    "#### Default Parameters"
   ]
  },
  {
   "cell_type": "code",
   "execution_count": 9,
   "metadata": {},
   "outputs": [
    {
     "data": {
      "text/plain": [
       "\u001b[33m10\u001b[39m"
      ]
     },
     "execution_count": 9,
     "metadata": {},
     "output_type": "execute_result"
    }
   ],
   "source": [
    "function multiply(a: number, b = 2) {\n",
    "  return a * b\n",
    "}\n",
    "\n",
    "multiply(5, undefined)\n"
   ]
  },
  {
   "cell_type": "code",
   "execution_count": 5,
   "metadata": {},
   "outputs": [
    {
     "data": {
      "text/plain": [
       "\u001b[33m25\u001b[39m"
      ]
     },
     "execution_count": 5,
     "metadata": {},
     "output_type": "execute_result"
    }
   ],
   "source": [
    "multiply(5, 5)"
   ]
  },
  {
   "cell_type": "markdown",
   "metadata": {},
   "source": [
    "##### No argument for optional parameter"
   ]
  },
  {
   "cell_type": "code",
   "execution_count": 8,
   "metadata": {},
   "outputs": [
    {
     "data": {
      "text/plain": [
       "\u001b[33m25\u001b[39m"
      ]
     },
     "execution_count": 8,
     "metadata": {},
     "output_type": "execute_result"
    }
   ],
   "source": [
    "multiply(5)"
   ]
  },
  {
   "cell_type": "markdown",
   "metadata": {},
   "source": [
    "##### Undefined argument for optional parameter"
   ]
  },
  {
   "cell_type": "code",
   "execution_count": 4,
   "metadata": {},
   "outputs": [
    {
     "data": {
      "text/plain": [
       "\u001b[33mNaN\u001b[39m"
      ]
     },
     "execution_count": 4,
     "metadata": {},
     "output_type": "execute_result"
    }
   ],
   "source": [
    "multiply(5, \"string\")"
   ]
  },
  {
   "cell_type": "markdown",
   "metadata": {},
   "source": [
    "#### Optional Parameters"
   ]
  },
  {
   "cell_type": "code",
   "execution_count": null,
   "metadata": {},
   "outputs": [],
   "source": [
    "function greetUser(name: string, greeting: string = \"mygreeting\"): string {\n",
    "  // If a greeting is provided, use it. Otherwise, use the default greeting.\n",
    "  // const greetingMessage = greeting ? greeting : \"Hello\";\n",
    "  console.log(greeting)\n",
    "  let greetingMessage = \"hello\"\n",
    "  if (greeting) {\n",
    "    greetingMessage = greeting\n",
    "  }\n",
    "\n",
    "  return `${greetingMessage}, ${name}!`;\n",
    "}\n"
   ]
  },
  {
   "cell_type": "code",
   "execution_count": 52,
   "metadata": {},
   "outputs": [
    {
     "name": "stdout",
     "output_type": "stream",
     "text": [
      "howdy\n"
     ]
    },
    {
     "data": {
      "text/plain": [
       "\u001b[32m\"howdy, Jane!\"\u001b[39m"
      ]
     },
     "execution_count": 52,
     "metadata": {},
     "output_type": "execute_result"
    }
   ],
   "source": [
    "greetUser('Jane', \"howdy\")"
   ]
  },
  {
   "cell_type": "code",
   "execution_count": 12,
   "metadata": {},
   "outputs": [
    {
     "data": {
      "text/plain": [
       "\u001b[32m\"Hi there, Jane!\"\u001b[39m"
      ]
     },
     "execution_count": 12,
     "metadata": {},
     "output_type": "execute_result"
    }
   ],
   "source": [
    "greetUser('Jane', \"Hi there\")"
   ]
  },
  {
   "cell_type": "markdown",
   "metadata": {},
   "source": [
    "#### Rest Parameters"
   ]
  },
  {
   "cell_type": "code",
   "execution_count": 56,
   "metadata": {},
   "outputs": [
    {
     "name": "stdout",
     "output_type": "stream",
     "text": [
      "[]\n"
     ]
    },
    {
     "data": {
      "text/plain": [
       "\u001b[33m0\u001b[39m"
      ]
     },
     "execution_count": 56,
     "metadata": {},
     "output_type": "execute_result"
    }
   ],
   "source": [
    "function sumNumbers(arg: string, ...numbers: number[]): number {\n",
    "  console.log(numbers)\n",
    "  let sum = 0;\n",
    "  for (const num of numbers) {\n",
    "    sum += num;\n",
    "  }\n",
    "  return sum;\n",
    "}\n",
    "\n",
    "sumNumbers(\"argument\")"
   ]
  },
  {
   "cell_type": "markdown",
   "metadata": {},
   "source": [
    "#### Spread"
   ]
  },
  {
   "cell_type": "code",
   "execution_count": 61,
   "metadata": {},
   "outputs": [
    {
     "name": "stdout",
     "output_type": "stream",
     "text": [
      "{ name: \"tim\", shape: \"square\", color: \"red\", height: 10 }\n",
      "[\n",
      "  5, 6, 1, 2,\n",
      "  3, 4, 7, 8\n",
      "]\n"
     ]
    }
   ],
   "source": [
    "const myobj = { name: \"tim\", shape: \"square\", color: \"blue\"}\n",
    "\n",
    "const getOptions = (params: object) => {\n",
    "  const defaultOptions = { color: \"red\", height: 10 };\n",
    "  return { ...params, ...defaultOptions };\n",
    "};\n",
    "\n",
    "// console.log(getOptions({ color: \"blue\", width: 5, height: 11 }));\n",
    "console.log(getOptions(myobj));\n",
    "\n",
    "const myarray = [1, 2, 3, 4]\n",
    "\n",
    "const newarray = [5, 6, ...myarray, 7, 8];\n",
    "\n",
    "console.log(newarray);\n",
    "\n"
   ]
  },
  {
   "cell_type": "code",
   "execution_count": null,
   "metadata": {},
   "outputs": [
    {
     "name": "stdout",
     "output_type": "stream",
     "text": [
      "[ 0, 4, 2, 43, 5 ]\n"
     ]
    }
   ],
   "source": [
    "const obj1 = { \n",
    "  value1: 1, \n",
    "  value2: { \n",
    "    reference: [2, 5, 4, 5]\n",
    "  } \n",
    "};\n",
    "\n",
    "const obj2 = { ...obj1 };\n",
    "\n",
    "// obj2.value2.reference = 6\n",
    "\n",
    "console.log(obj1); \n",
    "// console.log(obj2);\n",
    "\n",
    "const myarray = [4, 4, 5, 3, 5, 6, 3, 5]\n",
    "\n",
    "const myarray2 = [...myarray]\n"
   ]
  },
  {
   "cell_type": "markdown",
   "metadata": {},
   "source": [
    "#### Scope"
   ]
  },
  {
   "cell_type": "code",
   "execution_count": null,
   "metadata": {},
   "outputs": [],
   "source": [
    "function outerFunction() {\n",
    "  const outerVar = \"I'm outside\";\n",
    "\n",
    "  function innerFunction() {\n",
    "    const innerVar = \"I'm inside\";\n",
    "    console.log(outerVar); // Can access outerVar\n",
    "\n",
    "    return function doubleInnerFunction() {\n",
    "      console.log(outerVar); // Can still access outerVar\n",
    "      console.log(innerVar); // Can still access innerVar\n",
    "    };\n",
    "  }\n",
    "\n",
    "  return innerFunction();\n",
    "}\n",
    "\n",
    "const closure = outerFunction();\n",
    "closure(); // Output: \"I'm outside\", \"I'm inside\"\n",
    "\n",
    "// outerFunction() => innerFunction() => doubleInnerFunction\n"
   ]
  },
  {
   "cell_type": "code",
   "execution_count": null,
   "metadata": {},
   "outputs": [],
   "source": [
    "function updateArray(arr: number[], newValues: number[]): number[] {\n",
    "  return [...arr, ...newValues];\n",
    "}\n",
    "\n",
    "const originalArray = [1, 2, 3];\n",
    "const updatedArray = updateArray(originalArray, [4, 5, 6]);\n",
    "\n",
    "console.log(updatedArray);\n"
   ]
  },
  {
   "cell_type": "markdown",
   "metadata": {},
   "source": [
    "#### Destructuring"
   ]
  },
  {
   "cell_type": "code",
   "execution_count": 2,
   "metadata": {},
   "outputs": [
    {
     "name": "stdout",
     "output_type": "stream",
     "text": [
      "{\n",
      "  name: \"Garth\",\n",
      "  age: 43,\n",
      "  phoneNumber: \"01234123456\",\n",
      "  address: { street: \"Forest Road\", city: \"Big City\" }\n",
      "}\n"
     ]
    }
   ],
   "source": [
    "type Person = {\n",
    "  name: string;\n",
    "  age: number;\n",
    "  phoneNumber: string;\n",
    "  address: {\n",
    "    street: string;\n",
    "    city: string;\n",
    "  };\n",
    "};\n",
    "\n",
    "const mythere: Person = {\n",
    "  name: \"Garth\",\n",
    "  age: 43,\n",
    "  phoneNumber: \"01234123456\",\n",
    "  address: {\n",
    "    street: \"Forest Road\",\n",
    "    city: \"Big City\",\n",
    "  },\n",
    "};\n",
    "\n",
    "let { name, age, phoneNumber, address: { city } } = mythere;\n",
    "\n",
    "\n",
    "name = \"fsdgsdfg\"\n",
    "\n",
    "console.log(mythere);\n",
    "\n",
    "// console.log(mycity);\n",
    "\n",
    "\n",
    "// const name = person.name\n",
    "// const age = person.age\n",
    "// const phoneNumber = person.address.city\n",
    "\n",
    "// console.log(name, age, city);\n",
    "\n"
   ]
  },
  {
   "cell_type": "code",
   "execution_count": null,
   "metadata": {},
   "outputs": [
    {
     "name": "stdout",
     "output_type": "stream",
     "text": [
      "Name: Garth Age: 43 City: Big City\n"
     ]
    }
   ],
   "source": [
    "type Person = {\n",
    "  name: string;\n",
    "  age: number;\n",
    "  phoneNumber: string;\n",
    "  address: {\n",
    "    street: string;\n",
    "    city: string;\n",
    "  };\n",
    "};\n",
    "\n",
    "const person: Person = {\n",
    "  name: \"Garth\",\n",
    "  age: 43,\n",
    "  phoneNumber: \"01234123456\",\n",
    "  address: {\n",
    "    street: \"Forest Road\",\n",
    "    city: \"Big City\",\n",
    "  },\n",
    "};\n",
    "\n",
    "function displayPerson(person: Person) {\n",
    "  // const name = personName\n",
    "  console.log(`Name: ${person.name} Age: ${person.age} City: ${person.address.city}`);\n",
    "}\n",
    "\n",
    "displayPerson(person);\n"
   ]
  },
  {
   "cell_type": "code",
   "execution_count": null,
   "metadata": {},
   "outputs": [],
   "source": [
    "function addFirstTwo([a, b, d, c]: number[]) {\n",
    "  return a;\n",
    "}\n",
    "\n",
    "console.log(addFirstTwo([35, 7, 999999, 456, 345, 23, 345, 345, 3546, 234]));\n",
    "// 42\n",
    "\n",
    "type Car = { d4: string; c5: string; color: string, engine: { size: string, power: number} };\n",
    "\n",
    "const myCar: Car = {\n",
    "  d4: \"audi\",\n",
    "  c5: \"a4\",\n",
    "  color: \"grey\",\n",
    "  engine: {\n",
    "    size: \"2L\",\n",
    "    power: 190\n",
    "  }\n",
    "};\n",
    "\n",
    "function displayCar({d4: make}: Car) {\n",
    "  //do something\n",
    "  make\n",
    "}\n",
    "\n"
   ]
  },
  {
   "cell_type": "code",
   "execution_count": null,
   "metadata": {},
   "outputs": [
    {
     "name": "stdout",
     "output_type": "stream",
     "text": [
      "undefined\n"
     ]
    }
   ],
   "source": [
    "import { prependToMemberExpression } from \"../node_modules/@babel/types/lib/index-legacy.d.ts\";\n",
    "\n",
    "type Person = {\n",
    "  name: string;\n",
    "  age: number;\n",
    "};\n",
    "\n",
    "const updateAge = (person: Person) => {\n",
    "  person.age = 4545\n",
    "  // const newPerson: Person = { name: person.name, age: person.age + 1 }\n",
    "  // return newPerson;\n",
    "};\n",
    "\n",
    "const sandra: Person = { name: \"sandra\", age: 22 };\n",
    "\n",
    "const updatedSandra = updateAge(sandra);\n",
    "\n",
    "// console.log(sandra);\n",
    "\n",
    "// updatedSandra.age = 456456456456456456\n",
    "\n",
    "console.log(updatedSandra);\n"
   ]
  },
  {
   "cell_type": "code",
   "execution_count": null,
   "metadata": {},
   "outputs": [],
   "source": [
    "const reverseString = (str: string) => {\n",
    "  return str.split(\"\").reverse().join(\"\");\n",
    "};\n",
    "\n",
    "const input = \"hello\";\n",
    "reverseString(input);\n",
    "// olleh\n",
    "\n",
    "console.log(input);\n",
    "// hello\n"
   ]
  },
  {
   "cell_type": "code",
   "execution_count": 19,
   "metadata": {},
   "outputs": [],
   "source": [
    "const myfunc = () => {}"
   ]
  },
  {
   "cell_type": "code",
   "execution_count": null,
   "metadata": {},
   "outputs": [],
   "source": [
    "const array = [\"my \", \" array \", \"of \", \"string\"]\n",
    "\n",
    "const bigString = array.reduce((previousValue, currentValue) => {\n",
    "  return previousValue + currentValue\n",
    "}, \"\")\n",
    "\n",
    "bigString"
   ]
  },
  {
   "cell_type": "code",
   "execution_count": null,
   "metadata": {},
   "outputs": [
    {
     "name": "stdout",
     "output_type": "stream",
     "text": [
      "Window {}\n"
     ]
    }
   ],
   "source": [
    "function myFunction() {\n",
    "  return this\n",
    "}\n",
    "\n",
    "const myObj = {\n",
    "  property: \"stringadfsdfsdf\",\n",
    "  sdfsdf: \"sdfsdfsdf\",\n",
    "  func: () => {\n",
    "    return this\n",
    "  }\n",
    "}\n",
    "\n",
    "console.log(myObj.func());\n",
    "\n"
   ]
  },
  {
   "cell_type": "code",
   "execution_count": 39,
   "metadata": {},
   "outputs": [
    {
     "name": "stdout",
     "output_type": "stream",
     "text": [
      "{ hello: false }\n",
      "{ hello: true }\n",
      "{ hello: true }\n"
     ]
    },
    {
     "data": {
      "text/plain": [
       "{ hello: \u001b[33mtrue\u001b[39m }"
      ]
     },
     "execution_count": 39,
     "metadata": {},
     "output_type": "execute_result"
    }
   ],
   "source": [
    "const argA = \"Hello\";\n",
    "const argB = \"World\";\n",
    "\n",
    "function whatIsThis(a: string, b: string) {\n",
    "  return this;\n",
    "}\n",
    "\n",
    "console.log(whatIsThis.call({ hello: false }, argA, argB));\n",
    "// { hello: false }\n",
    "\n",
    "console.log(whatIsThis.apply({ hello: true }, [argA, argB]));\n",
    "// { hello: true }\n",
    "\n",
    "const boundWhatIsThis = whatIsThis.bind({ hello: true }, \"peter\");\n",
    "console.log(boundWhatIsThis(argB));\n",
    "\n",
    "\n",
    "boundWhatIsThis(\"happy\")\n",
    "// { hello: true }\n"
   ]
  },
  {
   "cell_type": "code",
   "execution_count": null,
   "metadata": {},
   "outputs": [
    {
     "name": "stdout",
     "output_type": "stream",
     "text": [
      "undefined\n"
     ]
    }
   ],
   "source": [
    "\n",
    "// greeting(\"\")\n",
    "\n",
    "// // // named function\n",
    "// function greeting(name: string): string {\n",
    "//   return \"hello \" + name;\n",
    "// }\n",
    "\n",
    "// // function expression\n",
    "// const greeting = function (name: string): string {\n",
    "//   return \"hello \" + name;\n",
    "// };\n",
    "\n",
    "// greeting()\n",
    "\n",
    "// // arrow function expression\n",
    "// const greeting = (name: string): string => {\n",
    "//   return \"hello \" + name;\n",
    "// };\n",
    "\n",
    "// // shorthand arrow function expression\n",
    "// const greeting = (name: string): string => \"hello\" + name;\n",
    "\n",
    "function myVoidFunction(): void {\n",
    "  for (var i = 0; i++; i<4) {\n",
    "    if (true) {\n",
    "      break\n",
    "    }\n",
    "  }\n",
    "  // sdfsdkfhsdfkhsdf\n",
    "}\n",
    "\n",
    "const myreturnresult = myVoidFunction()\n",
    "\n",
    "console.log(myreturnresult);\n",
    "\n",
    "\n"
   ]
  },
  {
   "cell_type": "code",
   "execution_count": null,
   "metadata": {},
   "outputs": [],
   "source": [
    "\n",
    "\n",
    "function outerFunction(outerParam: string, callback: (value: string) => string): () => string {\n",
    "  const outerVar = \"Hello, \";\n",
    "\n",
    "  \n",
    "\n",
    "  return callback(outerParam);\n",
    "}\n",
    "\n",
    "const greetingFunction = outerFunction(\"World!\")\n",
    "\n",
    "const newGreetingFunction = outerFunction(\"Tom\")\n",
    "\n",
    "const more = outerFunction(\"Everyone\")\n",
    "\n",
    "\n",
    "// outerFunction(\"World!\") === innerFunction\n",
    "\n",
    "// function greetingFunction() {\n",
    "//   return \"hello\" + \"World!\"\n",
    "// }\n",
    "\n",
    "\n",
    "console.log(greetingFunction());\n",
    "// Output: Hello, World!\n"
   ]
  }
 ],
 "metadata": {
  "kernelspec": {
   "display_name": "Deno",
   "language": "typescript",
   "name": "deno"
  },
  "language_info": {
   "codemirror_mode": "typescript",
   "file_extension": ".ts",
   "mimetype": "text/x.typescript",
   "name": "typescript",
   "nbconvert_exporter": "script",
   "pygments_lexer": "typescript",
   "version": "5.6.2"
  }
 },
 "nbformat": 4,
 "nbformat_minor": 4
}

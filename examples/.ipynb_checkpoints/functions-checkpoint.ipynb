{
 "cells": [
  {
   "cell_type": "markdown",
   "metadata": {},
   "source": [
    "### Functions\n"
   ]
  },
  {
   "cell_type": "markdown",
   "metadata": {},
   "source": [
    "#### Function Types"
   ]
  },
  {
   "cell_type": "code",
   "execution_count": null,
   "metadata": {},
   "outputs": [],
   "source": [
    "function add(a: number, b: number): number {\n",
    "  return a + b;\n",
    "}\n",
    "\n",
    "let addFunction: Function = add\n",
    "let addFunction2: (...args: any[]) => any = add"
   ]
  },
  {
   "cell_type": "markdown",
   "metadata": {},
   "source": [
    "#### Default Parameters"
   ]
  },
  {
   "cell_type": "code",
   "execution_count": 11,
   "metadata": {},
   "outputs": [],
   "source": [
    "function multiply(a: number, b = 2) {\n",
    "  return a * b\n",
    "}\n"
   ]
  },
  {
   "cell_type": "code",
   "execution_count": 12,
   "metadata": {},
   "outputs": [
    {
     "data": {
      "text/plain": [
       "\u001b[33m25\u001b[39m"
      ]
     },
     "execution_count": 12,
     "metadata": {},
     "output_type": "execute_result"
    }
   ],
   "source": [
    "multiply(5, 5)"
   ]
  },
  {
   "cell_type": "markdown",
   "metadata": {},
   "source": [
    "##### No argument for optional parameter"
   ]
  },
  {
   "cell_type": "code",
   "execution_count": 13,
   "metadata": {},
   "outputs": [
    {
     "data": {
      "text/plain": [
       "\u001b[33m10\u001b[39m"
      ]
     },
     "execution_count": 13,
     "metadata": {},
     "output_type": "execute_result"
    }
   ],
   "source": [
    "multiply(5)"
   ]
  },
  {
   "cell_type": "markdown",
   "metadata": {},
   "source": [
    "##### Undefined argument for optional parameter"
   ]
  },
  {
   "cell_type": "code",
   "execution_count": 14,
   "metadata": {},
   "outputs": [
    {
     "data": {
      "text/plain": [
       "\u001b[33m10\u001b[39m"
      ]
     },
     "execution_count": 14,
     "metadata": {},
     "output_type": "execute_result"
    }
   ],
   "source": [
    "multiply(5, \"string\")"
   ]
  },
  {
   "cell_type": "markdown",
   "metadata": {},
   "source": [
    "#### Optional Parameters"
   ]
  },
  {
   "cell_type": "code",
   "execution_count": null,
   "metadata": {},
   "outputs": [],
   "source": [
    "function greetUser(name: string, greeting?: string): string {\n",
    "  // If a greeting is provided, use it. Otherwise, use the default greeting.\n",
    "  const greetingMessage = greeting ? greeting : \"Hello\";\n",
    "\n",
    "  return `${greetingMessage}, ${name}!`;\n",
    "}\n"
   ]
  },
  {
   "cell_type": "code",
   "execution_count": null,
   "metadata": {},
   "outputs": [],
   "source": [
    "greetUser('Jane')"
   ]
  },
  {
   "cell_type": "code",
   "execution_count": null,
   "metadata": {},
   "outputs": [],
   "source": [
    "greetUser('Jane', \"Hi there\")"
   ]
  },
  {
   "cell_type": "markdown",
   "metadata": {},
   "source": [
    "#### Rest Parameters"
   ]
  },
  {
   "cell_type": "code",
   "execution_count": null,
   "metadata": {},
   "outputs": [],
   "source": [
    "function sumNumbers(arg: string, ...numbers: number[]): number {\n",
    "  let sum = 0;\n",
    "  for (const num of numbers) {\n",
    "    sum += num;\n",
    "  }\n",
    "  return sum;\n",
    "}"
   ]
  },
  {
   "cell_type": "markdown",
   "metadata": {},
   "source": [
    "#### Spread"
   ]
  },
  {
   "cell_type": "code",
   "execution_count": 1,
   "metadata": {},
   "outputs": [
    {
     "name": "stdout",
     "output_type": "stream",
     "text": [
      "{ color: \"blue\", height: 10, width: 5 }\n"
     ]
    }
   ],
   "source": [
    "const getOptions = (params: object) => {\n",
    "  const defaultOptions = { color: \"red\", height: 10 };\n",
    "  return { ...defaultOptions, ...params };\n",
    "};\n",
    "\n",
    "console.log(getOptions({ color: \"blue\", width: 5, height: 11 }));"
   ]
  },
  {
   "cell_type": "code",
   "execution_count": 22,
   "metadata": {},
   "outputs": [
    {
     "name": "stdout",
     "output_type": "stream",
     "text": [
      "{ topLevel1: 1, topLevel2: { innerLevel: 5 } }\n"
     ]
    }
   ],
   "source": [
    "const obj1 = { \n",
    "  topLevel1: 1, \n",
    "  topLevel2: { \n",
    "    innerLevel: 2 \n",
    "  } \n",
    "};\n",
    "\n",
    "const obj2 = { ...obj1 };\n",
    "\n",
    "obj2.topLevel2.innerLevel = 5\n",
    "\n",
    "console.log(obj1); \n",
    "// console.log(obj2);\n"
   ]
  },
  {
   "cell_type": "markdown",
   "metadata": {},
   "source": [
    "#### Scope"
   ]
  },
  {
   "cell_type": "code",
   "execution_count": null,
   "metadata": {},
   "outputs": [],
   "source": [
    "function outerFunction() {\n",
    "  const outerVar = \"I'm outside\";\n",
    "\n",
    "  function innerFunction() {\n",
    "    const innerVar = \"I'm inside\";\n",
    "    console.log(outerVar); // Can access outerVar\n",
    "\n",
    "    return function () {\n",
    "      console.log(outerVar); // Can still access outerVar\n",
    "      console.log(innerVar); // Can still access innerVar\n",
    "    };\n",
    "  }\n",
    "\n",
    "  return innerFunction();\n",
    "}\n",
    "\n",
    "const closure = outerFunction();\n",
    "closure(); // Output: \"I'm outside\", \"I'm inside\"\n"
   ]
  },
  {
   "cell_type": "code",
   "execution_count": null,
   "metadata": {},
   "outputs": [],
   "source": [
    "function updateArray(arr: number[], newValues: number[]): number[] {\n",
    "  return [...arr, ...newValues];\n",
    "}\n",
    "\n",
    "const originalArray = [1, 2, 3];\n",
    "const updatedArray = updateArray(originalArray, [4, 5, 6]);\n",
    "\n",
    "console.log(updatedArray);\n"
   ]
  },
  {
   "cell_type": "markdown",
   "metadata": {},
   "source": [
    "#### Destructuring"
   ]
  },
  {
   "cell_type": "code",
   "execution_count": null,
   "metadata": {},
   "outputs": [],
   "source": [
    "type Person = {\n",
    "  name: string;\n",
    "  age: number;\n",
    "  phoneNumber: string;\n",
    "  address: {\n",
    "    street: string;\n",
    "    city: string;\n",
    "  };\n",
    "};\n",
    "\n",
    "const person: Person = {\n",
    "  name: \"Garth\",\n",
    "  age: 43,\n",
    "  phoneNumber: \"01234123456\",\n",
    "  address: {\n",
    "    street: \"Forest Road\",\n",
    "    city: \"Big City\",\n",
    "  },\n",
    "};\n",
    "\n",
    "const { name, age } = person;\n",
    "\n",
    "console.log(name, age);\n",
    "\n"
   ]
  },
  {
   "cell_type": "code",
   "execution_count": null,
   "metadata": {},
   "outputs": [],
   "source": [
    "function displayPerson({ name, age, address: { city: location } }: Person) {\n",
    "  console.log(`Name: ${name} Age: ${age} City: ${location}`);\n",
    "}\n",
    "\n",
    "displayPerson({\n",
    "  name: \"Gareth\",\n",
    "  age: 44,\n",
    "  address: { street: \"Forest Road\", city: \"Big City\" },\n",
    "});\n"
   ]
  },
  {
   "cell_type": "code",
   "execution_count": 23,
   "metadata": {},
   "outputs": [
    {
     "name": "stdout",
     "output_type": "stream",
     "text": [
      "35\n",
      "{ make: \"audi\", model: \"a4\", color: \"grey\" }\n"
     ]
    }
   ],
   "source": [
    "function addFirstTwo([a, b, c, d]: number[]) {\n",
    "  return a;\n",
    "}\n",
    "\n",
    "console.log(addFirstTwo([35, 7, 999999, 456, 345, 23, 345, 345, 3546, 234]));\n",
    "// 42\n",
    "\n",
    "type Car = { d4: string; c5: string; color: string, engine: { size: string, power: number} };\n",
    "\n",
    "const myCar: Car = {\n",
    "  d4: \"audi\",\n",
    "  c5: \"a4\",\n",
    "  color: \"grey\",\n",
    "  engine: {\n",
    "    size: \"2L\",\n",
    "    power: 190\n",
    "  }\n",
    "};\n",
    "\n",
    "function displayCar({d4: make}: Car) {\n",
    "  //do something\n",
    "  make\n",
    "}\n",
    "\n"
   ]
  },
  {
   "cell_type": "code",
   "execution_count": 34,
   "metadata": {},
   "outputs": [
    {
     "name": "stdout",
     "output_type": "stream",
     "text": [
      "{ name: \"sandra\", age: 22 }\n"
     ]
    }
   ],
   "source": [
    "type Person = {\n",
    "  name: string;\n",
    "  age: number;\n",
    "};\n",
    "\n",
    "const updateAge = (person: Person) => {\n",
    "  const newPerson: Person = { name: person.name, age: person.age + 1 }\n",
    "  return newPerson;\n",
    "};\n",
    "\n",
    "const sandra: Person = { name: \"sandra\", age: 22 };\n",
    "\n",
    "const updatedSandra = updateAge(sandra);\n",
    "\n",
    "// console.log(sandra);\n",
    "\n",
    "updatedSandra.age = 44\n",
    "\n",
    "console.log(sandra);\n"
   ]
  },
  {
   "cell_type": "code",
   "execution_count": 26,
   "metadata": {},
   "outputs": [
    {
     "name": "stdout",
     "output_type": "stream",
     "text": [
      "hello\n"
     ]
    }
   ],
   "source": [
    "const reverseString = (str: string) => {\n",
    "  return str.split(\"\").reverse().join(\"\");\n",
    "};\n",
    "\n",
    "const input = \"hello\";\n",
    "reverseString(input);\n",
    "// olleh\n",
    "\n",
    "console.log(input);\n",
    "// hello\n"
   ]
  },
  {
   "cell_type": "code",
   "execution_count": null,
   "metadata": {},
   "outputs": [],
   "source": [
    "const myfunc = () => {}"
   ]
  },
  {
   "cell_type": "code",
   "execution_count": 44,
   "metadata": {},
   "outputs": [],
   "source": [
    "const array = [\"my \", \" array \", \"of \", \"string\"]\n",
    "\n",
    "const bigString = array.reduce((previousValue, currentValue) => {\n",
    "  return previousValue + currentValue\n",
    "}, \"\")\n",
    "\n",
    "bigString"
   ]
  }
 ],
 "metadata": {
  "kernelspec": {
   "display_name": "Deno",
   "language": "typescript",
   "name": "deno"
  },
  "language_info": {
   "file_extension": ".ts",
   "mimetype": "text/x.typescript",
   "name": "typescript",
   "nb_converter": "script",
   "pygments_lexer": "typescript",
   "version": "5.4.5"
  }
 },
 "nbformat": 4,
 "nbformat_minor": 4
}

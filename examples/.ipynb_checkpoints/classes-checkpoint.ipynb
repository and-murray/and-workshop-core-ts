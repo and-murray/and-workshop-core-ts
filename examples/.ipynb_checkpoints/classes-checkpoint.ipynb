{
 "cells": [
  {
   "cell_type": "markdown",
   "metadata": {},
   "source": [
    "#### Object vs Class"
   ]
  },
  {
   "cell_type": "code",
   "execution_count": 2,
   "metadata": {},
   "outputs": [
    {
     "name": "stdout",
     "output_type": "stream",
     "text": [
      "Hello, tim worrol!\n"
     ]
    }
   ],
   "source": [
    "const person = (firstName: string, surname: string) => {\n",
    "  const fullName = `${firstName} ${surname}`;\n",
    "  const greeting = () => {\n",
    "    console.log(`Hello, ${fullName}!`);\n",
    "  };\n",
    "  return {\n",
    "    fullName,\n",
    "    greeting,\n",
    "  };\n",
    "};\n",
    "\n",
    "const tim = person(\"tim\", \"worrol\")\n",
    "\n",
    "tim.greeting()\n"
   ]
  },
  {
   "cell_type": "code",
   "execution_count": 4,
   "metadata": {},
   "outputs": [
    {
     "name": "stdout",
     "output_type": "stream",
     "text": [
      "Hello, tom downes!\n"
     ]
    }
   ],
   "source": [
    "class Person {\n",
    "  public fullName: string;\n",
    "\n",
    "  constructor(firstName: string, surname: string) {\n",
    "    this.fullName = `${firstName} ${surname}`;\n",
    "  }\n",
    "\n",
    "  greeting() {\n",
    "    console.log(`Hello, ${this.fullName}!`);\n",
    "  }\n",
    "}\n",
    "\n",
    "const tom = new Person(\"tom\", \"downes\")\n",
    "\n",
    "tom.fullName"
   ]
  },
  {
   "cell_type": "markdown",
   "metadata": {},
   "source": [
    "#### `static`"
   ]
  },
  {
   "cell_type": "code",
   "execution_count": 1,
   "metadata": {},
   "outputs": [
    {
     "name": "stderr",
     "output_type": "stream",
     "text": [
      "9:8 - Cannot assign to 'pi' because it is a read-only property.\n"
     ]
    }
   ],
   "source": [
    "class Circle {\n",
    "  static readonly pi: number = 3.14;\n",
    "\n",
    "  static calculateArea(radius: number) {\n",
    "    return this.pi * radius * radius;\n",
    "  }\n",
    "}\n",
    "\n",
    "Circle.pi = 1"
   ]
  },
  {
   "cell_type": "markdown",
   "metadata": {},
   "source": [
    "#### `public`"
   ]
  },
  {
   "cell_type": "code",
   "execution_count": 1,
   "metadata": {},
   "outputs": [
    {
     "ename": "",
     "evalue": "",
     "output_type": "error",
     "traceback": [
      "\u001b[1;31mThe Kernel crashed while executing code in the current cell or a previous cell. \n",
      "\u001b[1;31mPlease review the code in the cell(s) to identify a possible cause of the failure. \n",
      "\u001b[1;31mClick <a href='https://aka.ms/vscodeJupyterKernelCrash'>here</a> for more info. \n",
      "\u001b[1;31mView Jupyter <a href='command:jupyter.viewOutput'>log</a> for further details."
     ]
    }
   ],
   "source": [
    "class Example {\n",
    "  public property: string;\n",
    "\n",
    "  public someFunction() {}\n",
    "\n",
    "  constructor() {\n",
    "    this.property = \"Example\";\n",
    "  }\n",
    "}\n"
   ]
  },
  {
   "cell_type": "markdown",
   "metadata": {},
   "source": [
    "#### `private`"
   ]
  },
  {
   "cell_type": "code",
   "execution_count": null,
   "metadata": {},
   "outputs": [],
   "source": [
    "class Example {\n",
    "  private property: string;\n",
    "  private someFunction(arg: string) {}\n",
    "\n",
    "  constructor() {\n",
    "    this.property = \"Example\";\n",
    "  }\n",
    "\n",
    "  public anotherFunction() {\n",
    "    this.someFunction(this.property);\n",
    "  }\n",
    "}\n",
    "\n",
    "const myExample = new Example();\n",
    "\n",
    "myExample.someFunction() \n",
    "// Property 'someFunction' is private and only accessible within class 'Example'\n"
   ]
  },
  {
   "cell_type": "markdown",
   "metadata": {},
   "source": [
    "### `protected`"
   ]
  },
  {
   "cell_type": "code",
   "execution_count": 9,
   "metadata": {},
   "outputs": [
    {
     "name": "stdout",
     "output_type": "stream",
     "text": [
      "mozilla barks.\n"
     ]
    }
   ],
   "source": [
    "class Animal {\n",
    "  protected name: string;\n",
    "\n",
    "  constructor(name: string) {\n",
    "    this.name = name;\n",
    "  }\n",
    "\n",
    "  protected makeSound(): void {\n",
    "    console.log(`${this.name} makes a sound.`);\n",
    "  }\n",
    "}\n",
    "\n",
    "class Dog extends Animal {\n",
    "  bark(): void {\n",
    "    this.makeSound();\n",
    "    console.log(`${this.name} barks.`);\n",
    "  }\n",
    "}\n",
    "\n",
    "const lion = new Animal('lion')\n",
    "\n",
    "const fido = new Dog('mozilla')\n",
    "\n",
    "fido.bark()\n"
   ]
  },
  {
   "cell_type": "markdown",
   "metadata": {},
   "source": [
    "#### `abstract`"
   ]
  },
  {
   "cell_type": "code",
   "execution_count": 2,
   "metadata": {},
   "outputs": [],
   "source": [
    "abstract class Animal {\n",
    "  public name: string;\n",
    "  protected abstract sound: string;\n",
    "\n",
    "  constructor(name: string) {\n",
    "    this.name = name;\n",
    "  }\n",
    "\n",
    "  public abstract makeSound(): void;\n",
    "}\n",
    "\n",
    "\n",
    "class Dog extends Animal {\n",
    "  public breed: string;\n",
    "  protected sound: string = \"barks\";\n",
    "\n",
    "  constructor(name: string, breed: string) {\n",
    "    super(name);\n",
    "    this.breed = breed;\n",
    "  }\n",
    "\n",
    "  public makeSound(): void {\n",
    "    console.log(`${this.name} ${this.sound}.`);\n",
    "  }\n",
    "}\n"
   ]
  },
  {
   "cell_type": "markdown",
   "metadata": {},
   "source": [
    "#### Automatic `this`"
   ]
  },
  {
   "cell_type": "code",
   "execution_count": null,
   "metadata": {},
   "outputs": [],
   "source": [
    "class Animal {\n",
    "  constructor(public name: string, public sound: string) {}\n",
    "\n",
    "  protected makeSound(): void {\n",
    "    console.log(`${this.name} ${this.sound}.`);\n",
    "  }\n",
    "}"
   ]
  },
  {
   "cell_type": "markdown",
   "metadata": {},
   "source": [
    "### Getters & Setters"
   ]
  },
  {
   "cell_type": "code",
   "execution_count": null,
   "metadata": {},
   "outputs": [],
   "source": [
    "class Example {\n",
    "  private _property: number = 1;\n",
    "\n",
    "  get property() {\n",
    "    return this._property;\n",
    "  }\n",
    "  set property(value: number) {\n",
    "    this._property = value;\n",
    "  }\n",
    "}\n",
    "const example = new Example();\n",
    "\n",
    "example.property = 2;\n",
    "console.log(example.property);\n",
    "// 2\n"
   ]
  },
  {
   "cell_type": "code",
   "execution_count": null,
   "metadata": {},
   "outputs": [],
   "source": [
    "class Person {\n",
    "  private _name: string;\n",
    "\n",
    "  constructor(name: string) {\n",
    "    this._name = name;\n",
    "  }\n",
    "\n",
    "  get name() {\n",
    "    console.log(\"Getting name\");\n",
    "    return this._name.toUpperCase();\n",
    "  }\n",
    "\n",
    "  set name(value: string) {\n",
    "    if (value.length > 20) {\n",
    "      throw new Error(\"Name is too long\");\n",
    "    }\n",
    "    console.log(\"Setting name\");\n",
    "    this._name = value;\n",
    "  }\n",
    "}\n"
   ]
  },
  {
   "cell_type": "markdown",
   "metadata": {},
   "source": [
    "#### Builder Pattern"
   ]
  },
  {
   "cell_type": "code",
   "execution_count": 3,
   "metadata": {},
   "outputs": [
    {
     "name": "stdout",
     "output_type": "stream",
     "text": [
      "RequestBuilder {\n",
      "  method: \"POST\",\n",
      "  url: \"https://example.com\",\n",
      "  data: null\n",
      "}\n"
     ]
    }
   ],
   "source": [
    "class RequestBuilder {\n",
    "  private method: \"GET\" | \"POST\" | null = null;\n",
    "  private url: string | null = null;\n",
    "  private data: object | null = null;\n",
    "\n",
    "  public setMethod(method: \"GET\" | \"POST\"): this {\n",
    "    this.method = method;\n",
    "    console.log(this);\n",
    "    return this;\n",
    "  }\n",
    "\n",
    "  public setUrl(url: string): this {\n",
    "    this.url = url;\n",
    "    console.log(this);\n",
    "\n",
    "    return this;\n",
    "  }\n",
    "\n",
    "  public setData(data: object): this {\n",
    "    this.data = data;\n",
    "    console.log(this);\n",
    "    return this;\n",
    "  }\n",
    "\n",
    "  public send(): void {\n",
    "    // console.log(this);\n",
    "\n",
    "    // do send\n",
    "  }\n",
    "}\n",
    "\n",
    "new RequestBuilder()\n",
    "  .setMethod(\"POST\")\n",
    "  .setUrl(\"https://example.com\")\n",
    "  .setData({ key: \"value\" })\n",
    "  .send();\n"
   ]
  },
  {
   "cell_type": "markdown",
   "metadata": {},
   "source": [
    "#### Factory Pattern"
   ]
  },
  {
   "cell_type": "markdown",
   "metadata": {},
   "source": []
  }
 ],
 "metadata": {
  "kernelspec": {
   "display_name": "TypeScript",
   "language": "typescript",
   "name": "tslab"
  },
  "language_info": {
   "codemirror_mode": {
    "mode": "typescript",
    "name": "javascript",
    "typescript": true
   },
   "file_extension": ".ts",
   "mimetype": "text/typescript",
   "name": "typescript",
   "version": "3.7.2"
  }
 },
 "nbformat": 4,
 "nbformat_minor": 4
}

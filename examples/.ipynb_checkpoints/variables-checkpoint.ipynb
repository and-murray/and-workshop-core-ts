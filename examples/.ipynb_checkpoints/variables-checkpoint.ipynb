{
 "cells": [
  {
   "cell_type": "markdown",
   "id": "d17adec6",
   "metadata": {},
   "source": [
    "### Scope"
   ]
  },
  {
   "cell_type": "code",
   "execution_count": null,
   "id": "b8c3bf88-79f0-4268-9cb9-6e968d38ff18",
   "metadata": {},
   "outputs": [],
   "source": [
    "var _var = 1;\n",
    "let _let = 2;\n",
    "const _const = 3;\n",
    "\n",
    "if (true) {\n",
    "  var _var = 4;\n",
    "  let _let = 5;\n",
    "  const _const = 6;\n",
    "  console.log(\"Block scope: \", _var, _let, _const);\n",
    "}\n",
    "\n",
    "console.log(\"Function scope: \", _var, _let, _const);"
   ]
  },
  {
   "cell_type": "code",
   "execution_count": null,
   "id": "5647a337",
   "metadata": {},
   "outputs": [],
   "source": [
    "const NAME: string = \"Louis\";\n",
    "let age: number = 12;\n",
    "\n",
    "console.log(`${NAME} is ${age}`);"
   ]
  },
  {
   "cell_type": "code",
   "execution_count": null,
   "id": "2b44e47d",
   "metadata": {},
   "outputs": [],
   "source": [
    "age = age + 1\n",
    "\n",
    "console.log(`${NAME} is ${age}`);"
   ]
  },
  {
   "cell_type": "code",
   "execution_count": null,
   "id": "bfb2b842",
   "metadata": {},
   "outputs": [],
   "source": [
    "NAME = \"Harold\"\n",
    "\n",
    "console.log(`${NAME} is ${age}`);"
   ]
  }
 ],
 "metadata": {
  "kernelspec": {
   "display_name": "TypeScript",
   "language": "typescript",
   "name": "tslab"
  },
  "language_info": {
   "codemirror_mode": {
    "mode": "typescript",
    "name": "javascript",
    "typescript": true
   },
   "file_extension": ".ts",
   "mimetype": "text/typescript",
   "name": "typescript",
   "version": "3.7.2"
  }
 },
 "nbformat": 4,
 "nbformat_minor": 5
}

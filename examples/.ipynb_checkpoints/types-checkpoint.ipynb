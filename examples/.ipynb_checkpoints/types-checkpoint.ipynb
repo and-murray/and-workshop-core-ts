{
 "cells": [
  {
   "cell_type": "code",
   "execution_count": null,
   "metadata": {},
   "outputs": [],
   "source": [
    "type Address = {\n",
    "  name?: string;\n",
    "  number: number;\n",
    "  street: string;\n",
    "  city: string;\n",
    "};\n",
    "\n",
    "type Person = {\n",
    "  name: string;\n",
    "  readonly age: number;\n",
    "  address?: Address;\n",
    "};"
   ]
  },
  {
   "cell_type": "code",
   "execution_count": null,
   "metadata": {},
   "outputs": [],
   "source": [
    "function modifyPerson(person: Person, newName: string, address?: Address) {\n",
    "  person.name = newName;\n",
    "  if (!!address) {\n",
    "    person.address = address\n",
    "  }\n",
    "}"
   ]
  },
  {
   "cell_type": "code",
   "execution_count": null,
   "metadata": {},
   "outputs": [],
   "source": [
    "\n",
    "const person: Person = {\n",
    "  name: 'Harold',\n",
    "  age: 42,\n",
    "};\n",
    "\n",
    "console.log(person)"
   ]
  },
  {
   "cell_type": "code",
   "execution_count": null,
   "metadata": {},
   "outputs": [],
   "source": [
    "modifyPerson(person, \"James\")\n",
    "\n",
    "console.log(person);"
   ]
  }
 ],
 "metadata": {
  "kernelspec": {
   "display_name": "TypeScript",
   "language": "typescript",
   "name": "tslab"
  },
  "language_info": {
   "codemirror_mode": {
    "mode": "typescript",
    "name": "javascript",
    "typescript": true
   },
   "file_extension": ".ts",
   "mimetype": "text/typescript",
   "name": "typescript",
   "version": "3.7.2"
  }
 },
 "nbformat": 4,
 "nbformat_minor": 2
}

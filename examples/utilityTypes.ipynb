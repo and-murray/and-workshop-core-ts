{
 "cells": [
  {
   "cell_type": "markdown",
   "metadata": {},
   "source": [
    "## Utility Types"
   ]
  },
  {
   "cell_type": "markdown",
   "metadata": {},
   "source": [
    "These examples will also work with `interface` as well as `type`!"
   ]
  },
  {
   "cell_type": "markdown",
   "metadata": {},
   "source": [
    "### Partial"
   ]
  },
  {
   "cell_type": "code",
   "execution_count": null,
   "metadata": {},
   "outputs": [],
   "source": [
    "type Point = {\n",
    "  x: number;\n",
    "  y: number;\n",
    "}\n",
    "\n",
    "let pointPart: Partial<Point> = {};\n",
    "pointPart.x = 10;\n"
   ]
  },
  {
   "cell_type": "markdown",
   "metadata": {},
   "source": [
    "### Pick"
   ]
  },
  {
   "cell_type": "code",
   "execution_count": null,
   "metadata": {},
   "outputs": [],
   "source": [
    "type Person = {\n",
    "  name: string;\n",
    "  age: number;\n",
    "  location?: string;\n",
    "};\n",
    "\n",
    "const bob: Pick<Person, \"name\" | \"age\"> = {\n",
    "  name: \"Bob\",\n",
    "  age: 5,\n",
    "};\n"
   ]
  },
  {
   "cell_type": "markdown",
   "metadata": {},
   "source": [
    "### Required"
   ]
  },
  {
   "cell_type": "code",
   "execution_count": null,
   "metadata": {},
   "outputs": [],
   "source": [
    "type Car = {\n",
    "  make: string;\n",
    "  model?: string;\n",
    "  mileage?: number;\n",
    "}\n",
    "\n",
    "const myCar: Required<Car> = {\n",
    "  make: \"Ford\",\n",
    "  model: \"Focus\",\n",
    "  mileage: 12000,\n",
    "};\n",
    "\n",
    "// Optional is reverse of this"
   ]
  },
  {
   "cell_type": "markdown",
   "metadata": {},
   "source": [
    "### Record"
   ]
  },
  {
   "cell_type": "code",
   "execution_count": null,
   "metadata": {},
   "outputs": [],
   "source": [
    "const nameAgeMap: Record<string, number> = { // can use other types here (union etc.)\n",
    "  Alice: 21,\n",
    "  Bob: 4,\n",
    "};\n"
   ]
  },
  {
   "cell_type": "markdown",
   "metadata": {},
   "source": [
    "### Omit"
   ]
  },
  {
   "cell_type": "code",
   "execution_count": null,
   "metadata": {},
   "outputs": [],
   "source": [
    "type Person = {\n",
    "  name: string;\n",
    "  age: number;\n",
    "  location?: string;\n",
    "}\n",
    "\n",
    "const bob: Omit<Person, \"age\" | \"location\"> = {\n",
    "  name: \"Bob\",\n",
    "};\n"
   ]
  },
  {
   "cell_type": "markdown",
   "metadata": {},
   "source": [
    "### Pick"
   ]
  },
  {
   "cell_type": "code",
   "execution_count": null,
   "metadata": {},
   "outputs": [],
   "source": [
    "type Person = {\n",
    "  name: string;\n",
    "  age: number;\n",
    "  location?: string;\n",
    "}\n",
    "\n",
    "const bob: Pick<Person, \"name\"> = {\n",
    "  name: \"Bob\",\n",
    "};"
   ]
  },
  {
   "cell_type": "markdown",
   "metadata": {},
   "source": [
    "### Exclude"
   ]
  },
  {
   "cell_type": "code",
   "execution_count": null,
   "metadata": {},
   "outputs": [],
   "source": [
    "type Primitive = string | number | boolean;\n",
    "\n",
    "const value: Exclude<Primitive, string> = true;\n"
   ]
  },
  {
   "cell_type": "markdown",
   "metadata": {},
   "source": [
    "### ReturnType"
   ]
  },
  {
   "cell_type": "code",
   "execution_count": null,
   "metadata": {},
   "outputs": [],
   "source": [
    "type PointGenerator = () => { x: number; y: number };\n",
    "\n",
    "const point: ReturnType<PointGenerator> = {\n",
    "  x: 10,\n",
    "  y: 20,\n",
    "};\n",
    "\n",
    "const myFunction = (arg: string) => {\n",
    "  return { objectKey: 'someString'}\n",
    "};\n",
    "\n",
    "const obj: ReturnType<typeof myFunction> = { objectKey: 'string' };\n"
   ]
  },
  {
   "cell_type": "markdown",
   "metadata": {},
   "source": [
    "### Parameters"
   ]
  },
  {
   "cell_type": "code",
   "execution_count": null,
   "metadata": {},
   "outputs": [],
   "source": [
    "type PointPrinter = (params: { x: number; y: number }) => void;\n",
    "\n",
    "const point: Parameters<PointPrinter>[0] = {\n",
    "  x: 10,\n",
    "  y: 20,\n",
    "};\n",
    "\n",
    "const objValueToString = (obj: { [key: string]: string}) => {\n",
    "  console.log(Object.values(obj).join(''));\n",
    "  \n",
    "}\n",
    "\n",
    "const point2: Parameters<typeof objValueToString>[0] = {\n",
    "  key: 'value',\n",
    "  anotherKey: 'anotherValue' \n",
    "}"
   ]
  },
  {
   "cell_type": "markdown",
   "metadata": {},
   "source": [
    "### ReadOnly"
   ]
  },
  {
   "cell_type": "code",
   "execution_count": null,
   "metadata": {},
   "outputs": [],
   "source": [
    "type Person = {\n",
    "  name: string;\n",
    "  age: number;\n",
    "}\n",
    "const person: Readonly<Person> = {\n",
    "  name: \"Craig\",\n",
    "  age: 35,\n",
    "};\n",
    "\n",
    "person.name = 'Michelle'; // Cannot assign to 'name' because it is a read-only property."
   ]
  }
 ],
 "metadata": {
  "kernelspec": {
   "display_name": "Deno",
   "language": "typescript",
   "name": "deno"
  },
  "language_info": {
   "name": "typescript",
   "version": "3.12.4"
  }
 },
 "nbformat": 4,
 "nbformat_minor": 2
}

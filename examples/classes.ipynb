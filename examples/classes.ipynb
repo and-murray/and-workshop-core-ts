{
 "cells": [
  {
   "cell_type": "markdown",
   "metadata": {},
   "source": [
    "#### Object vs Class"
   ]
  },
  {
   "cell_type": "code",
   "execution_count": null,
   "metadata": {},
   "outputs": [],
   "source": [
    "const person = (firstName: string, surname: string) => {\n",
    "  const fullName = `${firstName} ${surname}`;\n",
    "  const greeting = () => {\n",
    "    console.log(`Hello, ${fullName}!`);\n",
    "  };\n",
    "  return {\n",
    "    fullName,\n",
    "    greeting,\n",
    "  };\n",
    "};\n",
    "\n",
    "const bart = person(\"bart\", \"simpson\");\n",
    "\n",
    "bart.greeting();\n"
   ]
  },
  {
   "cell_type": "code",
   "execution_count": null,
   "metadata": {},
   "outputs": [],
   "source": [
    "class Person {\n",
    "   fullName: string;\n",
    "\n",
    "  constructor(firstName: string, surname: string) {\n",
    "    this.fullName = `${firstName} ${surname}`;\n",
    "  }\n",
    "\n",
    "  greeting() {\n",
    "    console.log(`Hello, ${this.fullName}!`);\n",
    "  }\n",
    "}\n",
    "\n",
    "const tom = new Person(\"tom\", \"downes\");\n",
    "\n",
    "tom.greeting();\n"
   ]
  },
  {
   "cell_type": "markdown",
   "metadata": {},
   "source": [
    "#### `this`"
   ]
  },
  {
   "cell_type": "code",
   "execution_count": null,
   "metadata": {},
   "outputs": [],
   "source": [
    "class Person {\n",
    "  static numberLegs = 2;\n",
    "  firstName: string;\n",
    "  surname: string;\n",
    "\n",
    "  constructor(firstName: string, surname: string) {\n",
    "    this.firstName = firstName;\n",
    "    this.surname = surname;\n",
    "  }\n",
    "\n",
    "  getFullName() {\n",
    "    return `${this.firstName} ${this.surname}`\n",
    "  }\n",
    "\n",
    "  greeting() {\n",
    "    console.log(`Hello, ${this.getFullName()}!`);\n",
    "  }\n",
    "}\n",
    "\n",
    "const variable: Person = new Person(\"tom\", \"shmom\")\n",
    "\n",
    "person.greeting()"
   ]
  },
  {
   "cell_type": "markdown",
   "metadata": {},
   "source": [
    "#### `static`"
   ]
  },
  {
   "cell_type": "code",
   "execution_count": null,
   "metadata": {},
   "outputs": [],
   "source": [
    "class Circle {\n",
    "  static pi: number = 3.14;\n",
    "\n",
    "  static calculateArea(radius: number) {\n",
    "    return this.pi * radius * radius;\n",
    "  }\n",
    "\n",
    "}\n",
    "\n",
    "Circle.pi = 435345\n",
    "\n",
    "console.log(Circle.pi);\n",
    "\n"
   ]
  },
  {
   "cell_type": "markdown",
   "metadata": {},
   "source": [
    "#### `public`"
   ]
  },
  {
   "cell_type": "code",
   "execution_count": null,
   "metadata": {},
   "outputs": [],
   "source": [
    "class Example {\n",
    "  public property: string;\n",
    "\n",
    "  public someFunction() {}\n",
    "\n",
    "  constructor() {\n",
    "    this.property = \"Example\";\n",
    "  }\n",
    "}\n"
   ]
  },
  {
   "cell_type": "markdown",
   "metadata": {},
   "source": [
    "#### `private`"
   ]
  },
  {
   "cell_type": "code",
   "execution_count": null,
   "metadata": {},
   "outputs": [],
   "source": [
    "class Example {\n",
    "  private property: string;\n",
    "  private someFunction(arg: string) {}\n",
    "\n",
    "  constructor() {\n",
    "    this.property = \"Example\";\n",
    "  }\n",
    "\n",
    "  public anotherFunction() {\n",
    "    this.someFunction(this.property);\n",
    "  }\n",
    "}\n",
    "\n",
    "const myExample = new Example();\n",
    "\n",
    "myExample.someFunction();\n",
    "// Property 'someFunction' is private and only accessible within class 'Example'\n"
   ]
  },
  {
   "cell_type": "markdown",
   "metadata": {},
   "source": [
    "### `protected`"
   ]
  },
  {
   "cell_type": "code",
   "execution_count": null,
   "metadata": {},
   "outputs": [],
   "source": [
    "class Animal {\n",
    "  protected name: string;\n",
    "\n",
    "  constructor(name: string) {\n",
    "    this.name = name;\n",
    "  }\n",
    "\n",
    "  protected makeSound(): void {\n",
    "    console.log(`${this.name} makes a sound.`);\n",
    "  }\n",
    "}\n",
    "\n",
    "class Dog extends Animal {\n",
    "  bark(): void {\n",
    "    this.makeSound();\n",
    "    console.log(`${this.name} barks.`);\n",
    "  }\n",
    "}\n",
    "\n",
    "const lion = new Animal(\"lion\");\n",
    "const fido = new Dog(\"mozilla\");\n"
   ]
  },
  {
   "cell_type": "markdown",
   "metadata": {},
   "source": [
    "#### `abstract`"
   ]
  },
  {
   "cell_type": "code",
   "execution_count": null,
   "metadata": {},
   "outputs": [],
   "source": [
    "abstract class Animal {\n",
    "  public name: string;\n",
    "  protected abstract sound: string\n",
    "\n",
    "  constructor(name: string) {\n",
    "    this.name = name;\n",
    "  }\n",
    "\n",
    "  public walk() {\n",
    "    console.log(`${this.name} walks`);\n",
    "  }\n",
    "\n",
    "  public abstract makeSound(): void;\n",
    "}\n",
    "\n",
    "const animal = new Animal(\"name\")\n",
    "\n",
    "abstract class Dog extends Animal {\n",
    "  public breed: string;\n",
    "  protected sound: string = \"barks\";\n",
    "\n",
    "  constructor(name: string, breed: string) {\n",
    "    super(name);\n",
    "    this.breed = breed;\n",
    "  }\n",
    "\n",
    "  public makeSound(): void {\n",
    "    console.log(`${this.name} ${this.sound}.`);\n",
    "  }\n",
    "}\n"
   ]
  },
  {
   "cell_type": "markdown",
   "metadata": {},
   "source": [
    "#### Automatic `this`"
   ]
  },
  {
   "cell_type": "code",
   "execution_count": null,
   "metadata": {},
   "outputs": [],
   "source": [
    "class Animal {\n",
    "  sound: string\n",
    "\n",
    "  constructor(public name: string, sound: string) {\n",
    "    this.sound = sound;\n",
    "  }\n",
    "\n",
    "  protected makeSound(): void {\n",
    "    console.log(`${this.name} ${this.sound}.`);\n",
    "  }\n",
    "}\n",
    "\n",
    "const anim = new Animal(\"lion\", \"roar\")\n"
   ]
  },
  {
   "cell_type": "markdown",
   "metadata": {},
   "source": [
    "### Getters & Setters"
   ]
  },
  {
   "cell_type": "code",
   "execution_count": null,
   "metadata": {},
   "outputs": [],
   "source": [
    "class Example {\n",
    "  private _property: number = 1;\n",
    "\n",
    "  get property() {\n",
    "    return this._property;\n",
    "  }\n",
    "  set property(value: number) {\n",
    "    this._property = value;\n",
    "  }\n",
    "}\n",
    "const example = new Example();\n",
    "\n",
    "example.property = 2;\n",
    "console.log(example.property);\n"
   ]
  },
  {
   "cell_type": "code",
   "execution_count": null,
   "metadata": {},
   "outputs": [],
   "source": [
    "class Person {\n",
    "  private _name: string;\n",
    "\n",
    "  constructor(name: string) {\n",
    "    this._name = name;\n",
    "  }\n",
    "\n",
    "  get name() {\n",
    "    console.log(\"Getting name\");\n",
    "    return this._name.toUpperCase();\n",
    "  }\n",
    "\n",
    "  set name(value: string) {\n",
    "    if (value.length > 20) {\n",
    "      throw new Error(\"Name is too long\");\n",
    "    }\n",
    "    console.log(\"Setting name\");\n",
    "    this._name = value;\n",
    "  }\n",
    "}\n"
   ]
  },
  {
   "cell_type": "markdown",
   "metadata": {},
   "source": [
    "#### Builder Pattern"
   ]
  },
  {
   "cell_type": "code",
   "execution_count": null,
   "metadata": {},
   "outputs": [],
   "source": [
    "class RequestBuilder {\n",
    "  public method: \"GET\" | \"POST\" | null = null;\n",
    "  public url: string | null = null;\n",
    "  public data: object | null = null;\n",
    "\n",
    "  public setMethod(method: \"GET\" | \"POST\"): this {\n",
    "    this.method = method;\n",
    "    console.log(this);\n",
    "    return this;\n",
    "  }\n",
    "\n",
    "  public setUrl(url: string): this {\n",
    "    this.url = url;\n",
    "    console.log(this);\n",
    "\n",
    "    return this;\n",
    "  }\n",
    "\n",
    "  public setData(data: object): this {\n",
    "    this.data = data;\n",
    "    console.log(this);\n",
    "    return this;\n",
    "  }\n",
    "\n",
    "  public send(): void {\n",
    "    console.log(this);\n",
    "    // do send\n",
    "  }\n",
    "}\n",
    "new RequestBuilder()\n",
    "  .setMethod(\"POST\")\n",
    "  .setUrl(\"https://example.com\")\n",
    "  .setData({ key: \"value\" })\n",
    "  .send();\n"
   ]
  },
  {
   "cell_type": "markdown",
   "metadata": {},
   "source": [
    "#### Factory Pattern"
   ]
  },
  {
   "cell_type": "code",
   "execution_count": null,
   "metadata": {},
   "outputs": [],
   "source": [
    "class Animal {\n",
    "  public name: string;\n",
    "  protected color: string;\n",
    "\n",
    "  constructor(name: string, color: string) {\n",
    "    this.name = name;\n",
    "    this.color = color\n",
    "  }\n",
    "\n",
    "  public makeSound(): void {\n",
    "    console.log(`${this.name} makes a sound.`);\n",
    "  }\n",
    "\n",
    "}\n",
    "\n",
    "class Dog extends Animal {\n",
    "  public breed: string;\n",
    "\n",
    "  constructor(name: string, breed: string) {\n",
    "    super(\"dog\", \"red\");\n",
    "    this.breed = breed;\n",
    "  }\n",
    "\n",
    "  public bark(): void {\n",
    "    this.makeSound();\n",
    "    console.log(`${this.name} barks in ${this.color}.`);\n",
    "  }\n",
    "\n",
    "  public override makeSound(): void {\n",
    "    console.log(\"I AM NOT IN CONTROL\")\n",
    "  }\n",
    "}\n"
   ]
  }
 ],
 "metadata": {
  "kernelspec": {
   "display_name": "Deno",
   "language": "typescript",
   "name": "deno"
  },
  "language_info": {
   "codemirror_mode": "typescript",
   "file_extension": ".ts",
   "mimetype": "text/x.typescript",
   "name": "typescript",
   "nbconvert_exporter": "script",
   "pygments_lexer": "typescript",
   "version": "5.6.2"
  }
 },
 "nbformat": 4,
 "nbformat_minor": 4
}

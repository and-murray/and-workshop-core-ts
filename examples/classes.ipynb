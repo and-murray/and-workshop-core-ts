{
 "cells": [
  {
   "cell_type": "markdown",
   "metadata": {},
   "source": [
    "#### Object vs Class"
   ]
  },
  {
   "cell_type": "code",
   "execution_count": null,
   "metadata": {
    "vscode": {
     "languageId": "typescript"
    }
   },
   "outputs": [],
   "source": [
    "const person = (firstName: string, surname: string) => {\n",
    "  const fullName = `${firstName} ${surname}`;\n",
    "  const greeting = () => {\n",
    "    console.log(`Hello, ${fullName}!`);\n",
    "  };\n",
    "  return {\n",
    "    fullName,\n",
    "    greeting,\n",
    "  };\n",
    "};\n"
   ]
  },
  {
   "cell_type": "code",
   "execution_count": null,
   "metadata": {
    "vscode": {
     "languageId": "typescript"
    }
   },
   "outputs": [],
   "source": [
    "class Person {\n",
    "  fullName: string;\n",
    "\n",
    "  constructor(firstName: string, surname: string) {\n",
    "    this.fullName = `${firstName} ${surname}`;\n",
    "  }\n",
    "\n",
    "  greeting() {\n",
    "    console.log(`Hello, ${this.fullName}!`);\n",
    "  }\n",
    "}\n"
   ]
  },
  {
   "cell_type": "markdown",
   "metadata": {},
   "source": [
    "#### `static`"
   ]
  },
  {
   "cell_type": "code",
   "execution_count": 3,
   "metadata": {
    "vscode": {
     "languageId": "typescript"
    }
   },
   "outputs": [
    {
     "data": {
      "text/plain": [
       "\u001b[33m3.14\u001b[39m"
      ]
     },
     "execution_count": 3,
     "metadata": {},
     "output_type": "execute_result"
    }
   ],
   "source": [
    "class Circle {\n",
    "  static readonly pi: number = 3.14;\n",
    "\n",
    "  static calculateArea(radius: number) {\n",
    "    return this.pi * radius * radius;\n",
    "  }\n",
    "}\n",
    "\n",
    "Circle.pi; "
   ]
  },
  {
   "cell_type": "markdown",
   "metadata": {},
   "source": [
    "#### `public`"
   ]
  },
  {
   "cell_type": "code",
   "execution_count": 1,
   "metadata": {
    "vscode": {
     "languageId": "typescript"
    }
   },
   "outputs": [
    {
     "ename": "",
     "evalue": "",
     "output_type": "error",
     "traceback": [
      "\u001b[1;31mThe Kernel crashed while executing code in the current cell or a previous cell. \n",
      "\u001b[1;31mPlease review the code in the cell(s) to identify a possible cause of the failure. \n",
      "\u001b[1;31mClick <a href='https://aka.ms/vscodeJupyterKernelCrash'>here</a> for more info. \n",
      "\u001b[1;31mView Jupyter <a href='command:jupyter.viewOutput'>log</a> for further details."
     ]
    }
   ],
   "source": [
    "class Example {\n",
    "  public property: string;\n",
    "\n",
    "  public someFunction() {}\n",
    "\n",
    "  constructor() {\n",
    "    this.property = \"Example\";\n",
    "  }\n",
    "}\n"
   ]
  },
  {
   "cell_type": "markdown",
   "metadata": {},
   "source": [
    "#### `private`"
   ]
  },
  {
   "cell_type": "code",
   "execution_count": null,
   "metadata": {
    "vscode": {
     "languageId": "typescript"
    }
   },
   "outputs": [],
   "source": [
    "class Example {\n",
    "  private property: string;\n",
    "  private someFunction(arg: string) {}\n",
    "\n",
    "  constructor() {\n",
    "    this.property = \"Example\";\n",
    "  }\n",
    "\n",
    "  anotherFunction() {\n",
    "    this.someFunction(this.property);\n",
    "  }\n",
    "}\n",
    "\n",
    "const myExample = new Example();\n",
    "\n",
    "myExample.someFunction();\n",
    "// Property 'someFunction' is private and only accessible within class 'Example'\n"
   ]
  },
  {
   "cell_type": "markdown",
   "metadata": {},
   "source": [
    "### `protected`"
   ]
  },
  {
   "cell_type": "code",
   "execution_count": 4,
   "metadata": {
    "vscode": {
     "languageId": "typescript"
    }
   },
   "outputs": [],
   "source": [
    "class Animal {\n",
    "  protected name: string;\n",
    "\n",
    "  constructor(name: string) {\n",
    "    this.name = name;\n",
    "  }\n",
    "\n",
    "  protected makeSound(): void {\n",
    "    console.log(`${this.name} makes a sound.`);\n",
    "  }\n",
    "}\n",
    "\n",
    "class Dog extends Animal {\n",
    "  bark(): void {\n",
    "    this.makeSound();\n",
    "    console.log(`${this.name} barks.`);\n",
    "  }\n",
    "}\n"
   ]
  },
  {
   "cell_type": "markdown",
   "metadata": {},
   "source": [
    "#### `abstract`"
   ]
  },
  {
   "cell_type": "code",
   "execution_count": 2,
   "metadata": {
    "vscode": {
     "languageId": "typescript"
    }
   },
   "outputs": [],
   "source": [
    "abstract class Animal {\n",
    "  public name: string;\n",
    "  protected abstract sound: string;\n",
    "\n",
    "  constructor(name: string) {\n",
    "    this.name = name;\n",
    "  }\n",
    "\n",
    "  public abstract makeSound(): void;\n",
    "}\n",
    "\n",
    "\n",
    "class Dog extends Animal {\n",
    "  public breed: string;\n",
    "  protected sound: string = \"barks\";\n",
    "\n",
    "  constructor(name: string, breed: string) {\n",
    "    super(name);\n",
    "    this.breed = breed;\n",
    "  }\n",
    "\n",
    "  public makeSound(): void {\n",
    "    console.log(`${this.name} ${this.sound}.`);\n",
    "  }\n",
    "}\n"
   ]
  },
  {
   "cell_type": "markdown",
   "metadata": {},
   "source": [
    "#### Automatic `this`"
   ]
  },
  {
   "cell_type": "code",
   "execution_count": null,
   "metadata": {
    "vscode": {
     "languageId": "typescript"
    }
   },
   "outputs": [],
   "source": [
    "class Animal {\n",
    "  constructor(public name: string, public sound: string) {}\n",
    "\n",
    "  protected makeSound(): void {\n",
    "    console.log(`${this.name} ${this.sound}.`);\n",
    "  }\n",
    "}"
   ]
  },
  {
   "cell_type": "markdown",
   "metadata": {},
   "source": [
    "### Getters & Setters"
   ]
  },
  {
   "cell_type": "code",
   "execution_count": null,
   "metadata": {
    "vscode": {
     "languageId": "typescript"
    }
   },
   "outputs": [],
   "source": [
    "class Example {\n",
    "  private _property: number = 1;\n",
    "\n",
    "  get property() {\n",
    "    return this._property;\n",
    "  }\n",
    "  set property(value: number) {\n",
    "    this._property = value;\n",
    "  }\n",
    "}\n",
    "const example = new Example();\n",
    "\n",
    "example.property = 2;\n",
    "console.log(example.property);\n",
    "// 2\n"
   ]
  },
  {
   "cell_type": "code",
   "execution_count": null,
   "metadata": {
    "vscode": {
     "languageId": "typescript"
    }
   },
   "outputs": [],
   "source": [
    "class Person {\n",
    "  private _name: string;\n",
    "\n",
    "  constructor(name: string) {\n",
    "    this._name = name;\n",
    "  }\n",
    "\n",
    "  get name() {\n",
    "    console.log(\"Getting name\");\n",
    "    return this._name.toUpperCase();\n",
    "  }\n",
    "\n",
    "  set name(value: string) {\n",
    "    if (value.length > 20) {\n",
    "      throw new Error(\"Name is too long\");\n",
    "    }\n",
    "    console.log(\"Setting name\");\n",
    "    this._name = value;\n",
    "  }\n",
    "}\n"
   ]
  },
  {
   "cell_type": "markdown",
   "metadata": {},
   "source": [
    "#### Builder Pattern"
   ]
  },
  {
   "cell_type": "code",
   "execution_count": null,
   "metadata": {
    "vscode": {
     "languageId": "typescript"
    }
   },
   "outputs": [],
   "source": [
    "class RequestBuilder {\n",
    "  private method: \"GET\" | \"POST\" | null = null;\n",
    "  private url: string | null = null;\n",
    "  private data: object | null = null;\n",
    "\n",
    "  public setMethod(method: \"GET\" | \"POST\"): this {\n",
    "    this.method = method;\n",
    "    return this;\n",
    "  }\n",
    "\n",
    "  public setUrl(url: string): this {\n",
    "    this.url = url;\n",
    "    return this;\n",
    "  }\n",
    "\n",
    "  public setData(data: object): this {\n",
    "    this.data = data;\n",
    "    return this;\n",
    "  }\n",
    "\n",
    "  public send(): void {\n",
    "    // do send\n",
    "  }\n",
    "}\n",
    "\n",
    "new RequestBuilder()\n",
    "  .setMethod(\"POST\")\n",
    "  .setUrl(\"https://example.com\")\n",
    "  .setData({ key: \"value\" })\n",
    "  .send();\n"
   ]
  },
  {
   "cell_type": "markdown",
   "metadata": {},
   "source": [
    "#### Factory Pattern"
   ]
  },
  {
   "cell_type": "markdown",
   "metadata": {},
   "source": []
  }
 ],
 "metadata": {
  "language_info": {
   "name": "python"
  }
 },
 "nbformat": 4,
 "nbformat_minor": 2
}

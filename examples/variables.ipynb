{
 "cells": [
  {
   "cell_type": "markdown",
   "id": "2d5ffb6b",
   "metadata": {},
   "source": [
    "### Scope \n",
    "\n"
   ]
  },
  {
   "cell_type": "code",
   "execution_count": null,
   "id": "b8c3bf88-79f0-4268-9cb9-6e968d38ff18",
   "metadata": {},
   "outputs": [],
   "source": [
    "var _var = 1;\n",
    "let _let = 2;\n",
    "const _const = 3;\n",
    "\n",
    "if (true) {\n",
    "  var _var = 4;\n",
    "  let _let = 5;\n",
    "  const _const = 6;\n",
    "  console.log(\"Block scope: \", _var, _let, _const);\n",
    "}\n",
    "\n",
    "console.log(\"Function scope: \", _var, _let, _const);"
   ]
  },
  {
   "cell_type": "markdown",
   "id": "724928e4",
   "metadata": {},
   "source": [
    "### Immutability"
   ]
  },
  {
   "cell_type": "code",
   "execution_count": null,
   "id": "5647a337",
   "metadata": {},
   "outputs": [],
   "source": [
    "const NAME: string = \"Louis\";\n",
    "let age: number = 12;\n",
    "\n",
    "console.log(`${NAME} is ${age}`);"
   ]
  },
  {
   "cell_type": "code",
   "execution_count": null,
   "id": "2b44e47d",
   "metadata": {},
   "outputs": [],
   "source": [
    "age = age + 1\n",
    "\n",
    "console.log(`${NAME} is ${age}`);"
   ]
  },
  {
   "cell_type": "code",
   "execution_count": null,
   "id": "bfb2b842",
   "metadata": {},
   "outputs": [],
   "source": [
    "NAME = \"Harold\"\n",
    "\n",
    "console.log(`${NAME} is ${age}`);"
   ]
  },
  {
   "cell_type": "markdown",
   "id": "514e6a97",
   "metadata": {},
   "source": [
    "### Redeclaration"
   ]
  },
  {
   "cell_type": "code",
   "execution_count": null,
   "id": "4af8842d",
   "metadata": {},
   "outputs": [],
   "source": [
    "var myVar = \"initial Var\";\n",
    "\n",
    "let myLet = \"initial Let\"\n",
    "\n",
    "const myconst = \"initial const\""
   ]
  },
  {
   "cell_type": "markdown",
   "id": "776f6eb6",
   "metadata": {},
   "source": [
    "Try to redeclare..."
   ]
  },
  {
   "cell_type": "code",
   "execution_count": null,
   "id": "08fc9c74",
   "metadata": {},
   "outputs": [],
   "source": [
    "var myVar = \"new Var\";\n",
    "\n",
    "let myLet = \"new Let\"\n",
    "\n",
    "const myconst = \"new const\""
   ]
  },
  {
   "cell_type": "markdown",
   "id": "89838419",
   "metadata": {},
   "source": [
    "#### Updating properties of consts"
   ]
  },
  {
   "cell_type": "code",
   "execution_count": null,
   "id": "59b0ecbd",
   "metadata": {},
   "outputs": [],
   "source": [
    "const PEOPLE = [\"Nigel\", \"Pheobe\"]\n",
    "\n",
    "PEOPLE.push(\"Sophie\")\n",
    "\n",
    "console.log(PEOPLE)"
   ]
  },
  {
   "cell_type": "code",
   "execution_count": null,
   "id": "eb691e1c",
   "metadata": {},
   "outputs": [],
   "source": [
    "type Person = {\n",
    "  name: string,\n",
    "  age?: number\n",
    "}\n",
    "\n",
    "const FRIEND: Person = {\n",
    "  name: 'Sophie'\n",
    "}\n",
    "\n",
    "console.log(FRIEND)"
   ]
  },
  {
   "cell_type": "code",
   "execution_count": null,
   "id": "9fa23c4b",
   "metadata": {},
   "outputs": [],
   "source": [
    "FRIEND.age = 62\n",
    "FRIEND.name = 'Lucy'\n",
    "\n",
    "console.log(FRIEND)\n"
   ]
  }
 ],
 "metadata": {
  "kernelspec": {
   "display_name": "Deno",
   "language": "typescript",
   "name": "deno"
  },
  "language_info": {
   "file_extension": ".ts",
   "mimetype": "text/x.typescript",
   "name": "typescript",
   "nb_converter": "script",
   "pygments_lexer": "typescript",
   "version": "5.4.5"
  }
 },
 "nbformat": 4,
 "nbformat_minor": 5
}
